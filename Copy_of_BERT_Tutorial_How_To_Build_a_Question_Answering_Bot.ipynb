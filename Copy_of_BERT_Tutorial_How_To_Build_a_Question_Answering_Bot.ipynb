{
  "nbformat": 4,
  "nbformat_minor": 0,
  "metadata": {
    "colab": {
      "name": "Copy of BERT_Tutorial_How_To_Build_a_Question_Answering_Bot.ipynb",
      "provenance": [],
      "collapsed_sections": [],
      "include_colab_link": true
    },
    "kernelspec": {
      "name": "python3",
      "display_name": "Python 3"
    },
    "accelerator": "GPU"
  },
  "cells": [
    {
      "cell_type": "markdown",
      "metadata": {
        "id": "view-in-github",
        "colab_type": "text"
      },
      "source": [
        "<a href=\"https://colab.research.google.com/github/manvendra7/E2S14/blob/main/Copy_of_BERT_Tutorial_How_To_Build_a_Question_Answering_Bot.ipynb\" target=\"_parent\"><img src=\"https://colab.research.google.com/assets/colab-badge.svg\" alt=\"Open In Colab\"/></a>"
      ]
    },
    {
      "cell_type": "markdown",
      "metadata": {
        "id": "QQxF95ynpTg6"
      },
      "source": [
        "# BERT Tutorial- How To Build a Question Answering Bot\n",
        "\n",
        "Article by Michel Kana: https://towardsdatascience.com/bert-nlp-how-to-build-a-question-answering-bot-98b1d1594d7b\n",
        "\n",
        "Code credits to Michel Kana, and Prachur Bhargava, Lead Data Scientist @ Microsoft"
      ]
    },
    {
      "cell_type": "code",
      "metadata": {
        "id": "jY7mmcj9pRcW",
        "colab": {
          "base_uri": "https://localhost:8080/"
        },
        "outputId": "09572268-77e4-4a75-8716-1100d2970d41"
      },
      "source": [
        "# verify GPU availability\n",
        "import tensorflow as tf\n",
        "\n",
        "device_name = tf.test.gpu_device_name()\n",
        "if device_name != '/device:GPU:0':\n",
        "  raise SystemError('GPU device not found')\n",
        "print('Found GPU at: {}'.format(device_name))"
      ],
      "execution_count": 1,
      "outputs": [
        {
          "output_type": "stream",
          "text": [
            "Found GPU at: /device:GPU:0\n"
          ],
          "name": "stdout"
        }
      ]
    },
    {
      "cell_type": "code",
      "metadata": {
        "id": "Yxu0iAvYsHTK",
        "colab": {
          "base_uri": "https://localhost:8080/",
          "height": 995
        },
        "outputId": "77578afa-5605-4011-ad04-edb0900bb240"
      },
      "source": [
        "# install huggingface libraries\n",
        "!pip install pytorch-pretrained-bert pytorch-nlp pytorch_transformers"
      ],
      "execution_count": 2,
      "outputs": [
        {
          "output_type": "stream",
          "text": [
            "Collecting pytorch-pretrained-bert\n",
            "  Downloading pytorch_pretrained_bert-0.6.2-py3-none-any.whl (123 kB)\n",
            "\u001b[K     |████████████████████████████████| 123 kB 8.6 MB/s \n",
            "\u001b[?25hCollecting pytorch-nlp\n",
            "  Downloading pytorch_nlp-0.5.0-py3-none-any.whl (90 kB)\n",
            "\u001b[K     |████████████████████████████████| 90 kB 11.4 MB/s \n",
            "\u001b[?25hCollecting pytorch_transformers\n",
            "  Downloading pytorch_transformers-1.2.0-py3-none-any.whl (176 kB)\n",
            "\u001b[K     |████████████████████████████████| 176 kB 58.4 MB/s \n",
            "\u001b[?25hRequirement already satisfied: numpy in /usr/local/lib/python3.7/dist-packages (from pytorch-pretrained-bert) (1.19.5)\n",
            "Requirement already satisfied: regex in /usr/local/lib/python3.7/dist-packages (from pytorch-pretrained-bert) (2019.12.20)\n",
            "Collecting boto3\n",
            "  Downloading boto3-1.18.20-py3-none-any.whl (131 kB)\n",
            "\u001b[K     |████████████████████████████████| 131 kB 63.9 MB/s \n",
            "\u001b[?25hRequirement already satisfied: requests in /usr/local/lib/python3.7/dist-packages (from pytorch-pretrained-bert) (2.23.0)\n",
            "Requirement already satisfied: tqdm in /usr/local/lib/python3.7/dist-packages (from pytorch-pretrained-bert) (4.41.1)\n",
            "Requirement already satisfied: torch>=0.4.1 in /usr/local/lib/python3.7/dist-packages (from pytorch-pretrained-bert) (1.9.0+cu102)\n",
            "Requirement already satisfied: typing-extensions in /usr/local/lib/python3.7/dist-packages (from torch>=0.4.1->pytorch-pretrained-bert) (3.7.4.3)\n",
            "Collecting sacremoses\n",
            "  Downloading sacremoses-0.0.45-py3-none-any.whl (895 kB)\n",
            "\u001b[K     |████████████████████████████████| 895 kB 67.4 MB/s \n",
            "\u001b[?25hCollecting sentencepiece\n",
            "  Downloading sentencepiece-0.1.96-cp37-cp37m-manylinux_2_17_x86_64.manylinux2014_x86_64.whl (1.2 MB)\n",
            "\u001b[K     |████████████████████████████████| 1.2 MB 44.4 MB/s \n",
            "\u001b[?25hCollecting botocore<1.22.0,>=1.21.20\n",
            "  Downloading botocore-1.21.20-py3-none-any.whl (7.8 MB)\n",
            "\u001b[K     |████████████████████████████████| 7.8 MB 66.1 MB/s \n",
            "\u001b[?25hCollecting jmespath<1.0.0,>=0.7.1\n",
            "  Downloading jmespath-0.10.0-py2.py3-none-any.whl (24 kB)\n",
            "Collecting s3transfer<0.6.0,>=0.5.0\n",
            "  Downloading s3transfer-0.5.0-py3-none-any.whl (79 kB)\n",
            "\u001b[K     |████████████████████████████████| 79 kB 9.8 MB/s \n",
            "\u001b[?25hCollecting urllib3<1.27,>=1.25.4\n",
            "  Downloading urllib3-1.26.6-py2.py3-none-any.whl (138 kB)\n",
            "\u001b[K     |████████████████████████████████| 138 kB 75.8 MB/s \n",
            "\u001b[?25hRequirement already satisfied: python-dateutil<3.0.0,>=2.1 in /usr/local/lib/python3.7/dist-packages (from botocore<1.22.0,>=1.21.20->boto3->pytorch-pretrained-bert) (2.8.1)\n",
            "Requirement already satisfied: six>=1.5 in /usr/local/lib/python3.7/dist-packages (from python-dateutil<3.0.0,>=2.1->botocore<1.22.0,>=1.21.20->boto3->pytorch-pretrained-bert) (1.15.0)\n",
            "Requirement already satisfied: idna<3,>=2.5 in /usr/local/lib/python3.7/dist-packages (from requests->pytorch-pretrained-bert) (2.10)\n",
            "Requirement already satisfied: chardet<4,>=3.0.2 in /usr/local/lib/python3.7/dist-packages (from requests->pytorch-pretrained-bert) (3.0.4)\n",
            "  Downloading urllib3-1.25.11-py2.py3-none-any.whl (127 kB)\n",
            "\u001b[K     |████████████████████████████████| 127 kB 71.4 MB/s \n",
            "\u001b[?25hRequirement already satisfied: certifi>=2017.4.17 in /usr/local/lib/python3.7/dist-packages (from requests->pytorch-pretrained-bert) (2021.5.30)\n",
            "Requirement already satisfied: joblib in /usr/local/lib/python3.7/dist-packages (from sacremoses->pytorch_transformers) (1.0.1)\n",
            "Requirement already satisfied: click in /usr/local/lib/python3.7/dist-packages (from sacremoses->pytorch_transformers) (7.1.2)\n",
            "Installing collected packages: urllib3, jmespath, botocore, s3transfer, sentencepiece, sacremoses, boto3, pytorch-transformers, pytorch-pretrained-bert, pytorch-nlp\n",
            "  Attempting uninstall: urllib3\n",
            "    Found existing installation: urllib3 1.24.3\n",
            "    Uninstalling urllib3-1.24.3:\n",
            "      Successfully uninstalled urllib3-1.24.3\n",
            "\u001b[31mERROR: pip's dependency resolver does not currently take into account all the packages that are installed. This behaviour is the source of the following dependency conflicts.\n",
            "datascience 0.10.6 requires folium==0.2.1, but you have folium 0.8.3 which is incompatible.\u001b[0m\n",
            "Successfully installed boto3-1.18.20 botocore-1.21.20 jmespath-0.10.0 pytorch-nlp-0.5.0 pytorch-pretrained-bert-0.6.2 pytorch-transformers-1.2.0 s3transfer-0.5.0 sacremoses-0.0.45 sentencepiece-0.1.96 urllib3-1.25.11\n"
          ],
          "name": "stdout"
        },
        {
          "output_type": "display_data",
          "data": {
            "application/vnd.colab-display-data+json": {
              "pip_warning": {
                "packages": [
                  "urllib3"
                ]
              }
            }
          },
          "metadata": {
            "tags": []
          }
        }
      ]
    },
    {
      "cell_type": "code",
      "metadata": {
        "id": "pqd8Nwwnuh3u"
      },
      "source": [
        "import torch\n",
        "from torch.utils.data import TensorDataset, DataLoader, RandomSampler, SequentialSampler\n",
        "from keras.preprocessing.sequence import pad_sequences\n",
        "from sklearn.model_selection import train_test_split\n",
        "from pytorch_transformers import BertTokenizer, BertConfig, BertModel\n",
        "from pytorch_transformers import AdamW, BertForQuestionAnswering\n",
        "from tqdm import tqdm, trange\n",
        "import pandas as pd\n",
        "import io\n",
        "import os\n",
        "import numpy as np\n",
        "import matplotlib.pyplot as plt\n",
        "%matplotlib inline"
      ],
      "execution_count": 3,
      "outputs": []
    },
    {
      "cell_type": "code",
      "metadata": {
        "id": "x9ANT1FssMH4",
        "colab": {
          "base_uri": "https://localhost:8080/",
          "height": 35
        },
        "outputId": "c9cd5318-699b-442a-d782-3387827c0784"
      },
      "source": [
        "# BERT imports\n",
        "import torch\n",
        "from torch.utils.data import TensorDataset, DataLoader, RandomSampler, SequentialSampler\n",
        "from keras.preprocessing.sequence import pad_sequences\n",
        "from sklearn.model_selection import train_test_split\n",
        "from pytorch_pretrained_bert import BertTokenizer, BertConfig\n",
        "from pytorch_pretrained_bert import BertAdam, BertForSequenceClassification\n",
        "from tqdm import tqdm, trange\n",
        "import pandas as pd\n",
        "import io\n",
        "import numpy as np\n",
        "import matplotlib.pyplot as plt\n",
        "% matplotlib inline\n",
        "\n",
        "# specify GPU device\n",
        "device = torch.device(\"cuda\" if torch.cuda.is_available() else \"cpu\")\n",
        "n_gpu = torch.cuda.device_count()\n",
        "torch.cuda.get_device_name(0)"
      ],
      "execution_count": 4,
      "outputs": [
        {
          "output_type": "execute_result",
          "data": {
            "application/vnd.google.colaboratory.intrinsic+json": {
              "type": "string"
            },
            "text/plain": [
              "'Tesla T4'"
            ]
          },
          "metadata": {
            "tags": []
          },
          "execution_count": 4
        }
      ]
    },
    {
      "cell_type": "code",
      "metadata": {
        "id": "Hkii9bEqsRDJ",
        "colab": {
          "base_uri": "https://localhost:8080/"
        },
        "outputId": "7323e719-0138-49b5-b316-0164012e27f0"
      },
      "source": [
        "from google.colab import drive\n",
        "drive.mount('/drive')"
      ],
      "execution_count": 5,
      "outputs": [
        {
          "output_type": "stream",
          "text": [
            "Mounted at /drive\n"
          ],
          "name": "stdout"
        }
      ]
    },
    {
      "cell_type": "code",
      "metadata": {
        "id": "7DwYBV-2askA",
        "colab": {
          "base_uri": "https://localhost:8080/"
        },
        "outputId": "75534afd-30b8-46a3-ff36-4b396fe46c13"
      },
      "source": [
        "!ls /drive/My\\ Drive/Medium"
      ],
      "execution_count": 6,
      "outputs": [
        {
          "output_type": "stream",
          "text": [
            "dev-v2.0.json  train-v2.0.json\tutils_squad_evaluate.py  utils_squad.py\n"
          ],
          "name": "stdout"
        }
      ]
    },
    {
      "cell_type": "code",
      "metadata": {
        "id": "MnOX9wfQngPf"
      },
      "source": [
        "import sys\n",
        "sys.path.append('/drive/My Drive/Medium')"
      ],
      "execution_count": 7,
      "outputs": []
    },
    {
      "cell_type": "code",
      "metadata": {
        "id": "7yxjlwseeykl"
      },
      "source": [
        "from utils_squad import (read_squad_examples, convert_examples_to_features,\n",
        "                         RawResult, write_predictions,\n",
        "                         RawResultExtended, write_predictions_extended)\n",
        "from utils_squad_evaluate import EVAL_OPTS, main as evaluate_on_squad, plot_pr_curve"
      ],
      "execution_count": 8,
      "outputs": []
    },
    {
      "cell_type": "code",
      "metadata": {
        "id": "lGVWI85yfaPs",
        "colab": {
          "base_uri": "https://localhost:8080/"
        },
        "outputId": "0ad1d26d-941a-4e95-ab66-ca72dc2e1bbd"
      },
      "source": [
        "device = torch.device(\"cuda\" if torch.cuda.is_available() else \"cpu\")\n",
        "device"
      ],
      "execution_count": 9,
      "outputs": [
        {
          "output_type": "execute_result",
          "data": {
            "text/plain": [
              "device(type='cuda')"
            ]
          },
          "metadata": {
            "tags": []
          },
          "execution_count": 9
        }
      ]
    },
    {
      "cell_type": "code",
      "metadata": {
        "id": "zHgpndcloLFp"
      },
      "source": [
        "input_file = '/drive/My Drive/Medium/train-v2.0.json'\n",
        "examples = read_squad_examples(input_file=input_file,\n",
        "                                is_training=True,\n",
        "                                version_2_with_negative=True)"
      ],
      "execution_count": 10,
      "outputs": []
    },
    {
      "cell_type": "code",
      "metadata": {
        "id": "yVeg2Gw2mJYc"
      },
      "source": [
        "examples = examples[:26064]"
      ],
      "execution_count": 11,
      "outputs": []
    },
    {
      "cell_type": "code",
      "metadata": {
        "id": "TWRV-Q10qrIM",
        "colab": {
          "base_uri": "https://localhost:8080/",
          "height": 203
        },
        "outputId": "8ac58b81-76e5-4e45-f505-1c6eed62ddcc"
      },
      "source": [
        "train_data = pd.DataFrame.from_records([vars(example) for example in examples])\n",
        "#train_data = train_data.sample(frac=0.2)\n",
        "train_data.head()"
      ],
      "execution_count": 12,
      "outputs": [
        {
          "output_type": "execute_result",
          "data": {
            "text/html": [
              "<div>\n",
              "<style scoped>\n",
              "    .dataframe tbody tr th:only-of-type {\n",
              "        vertical-align: middle;\n",
              "    }\n",
              "\n",
              "    .dataframe tbody tr th {\n",
              "        vertical-align: top;\n",
              "    }\n",
              "\n",
              "    .dataframe thead th {\n",
              "        text-align: right;\n",
              "    }\n",
              "</style>\n",
              "<table border=\"1\" class=\"dataframe\">\n",
              "  <thead>\n",
              "    <tr style=\"text-align: right;\">\n",
              "      <th></th>\n",
              "      <th>qas_id</th>\n",
              "      <th>question_text</th>\n",
              "      <th>doc_tokens</th>\n",
              "      <th>orig_answer_text</th>\n",
              "      <th>start_position</th>\n",
              "      <th>end_position</th>\n",
              "      <th>is_impossible</th>\n",
              "    </tr>\n",
              "  </thead>\n",
              "  <tbody>\n",
              "    <tr>\n",
              "      <th>0</th>\n",
              "      <td>56be85543aeaaa14008c9063</td>\n",
              "      <td>When did Beyonce start becoming popular?</td>\n",
              "      <td>[Beyoncé, Giselle, Knowles-Carter, (/biːˈjɒnse...</td>\n",
              "      <td>in the late 1990s</td>\n",
              "      <td>39</td>\n",
              "      <td>42</td>\n",
              "      <td>False</td>\n",
              "    </tr>\n",
              "    <tr>\n",
              "      <th>1</th>\n",
              "      <td>56be85543aeaaa14008c9065</td>\n",
              "      <td>What areas did Beyonce compete in when she was...</td>\n",
              "      <td>[Beyoncé, Giselle, Knowles-Carter, (/biːˈjɒnse...</td>\n",
              "      <td>singing and dancing</td>\n",
              "      <td>28</td>\n",
              "      <td>30</td>\n",
              "      <td>False</td>\n",
              "    </tr>\n",
              "    <tr>\n",
              "      <th>2</th>\n",
              "      <td>56be85543aeaaa14008c9066</td>\n",
              "      <td>When did Beyonce leave Destiny's Child and bec...</td>\n",
              "      <td>[Beyoncé, Giselle, Knowles-Carter, (/biːˈjɒnse...</td>\n",
              "      <td>2003</td>\n",
              "      <td>82</td>\n",
              "      <td>82</td>\n",
              "      <td>False</td>\n",
              "    </tr>\n",
              "    <tr>\n",
              "      <th>3</th>\n",
              "      <td>56bf6b0f3aeaaa14008c9601</td>\n",
              "      <td>In what city and state did Beyonce  grow up?</td>\n",
              "      <td>[Beyoncé, Giselle, Knowles-Carter, (/biːˈjɒnse...</td>\n",
              "      <td>Houston, Texas</td>\n",
              "      <td>22</td>\n",
              "      <td>23</td>\n",
              "      <td>False</td>\n",
              "    </tr>\n",
              "    <tr>\n",
              "      <th>4</th>\n",
              "      <td>56bf6b0f3aeaaa14008c9602</td>\n",
              "      <td>In which decade did Beyonce become famous?</td>\n",
              "      <td>[Beyoncé, Giselle, Knowles-Carter, (/biːˈjɒnse...</td>\n",
              "      <td>late 1990s</td>\n",
              "      <td>41</td>\n",
              "      <td>42</td>\n",
              "      <td>False</td>\n",
              "    </tr>\n",
              "  </tbody>\n",
              "</table>\n",
              "</div>"
            ],
            "text/plain": [
              "                     qas_id  ... is_impossible\n",
              "0  56be85543aeaaa14008c9063  ...         False\n",
              "1  56be85543aeaaa14008c9065  ...         False\n",
              "2  56be85543aeaaa14008c9066  ...         False\n",
              "3  56bf6b0f3aeaaa14008c9601  ...         False\n",
              "4  56bf6b0f3aeaaa14008c9602  ...         False\n",
              "\n",
              "[5 rows x 7 columns]"
            ]
          },
          "metadata": {
            "tags": []
          },
          "execution_count": 12
        }
      ]
    },
    {
      "cell_type": "code",
      "metadata": {
        "colab": {
          "base_uri": "https://localhost:8080/"
        },
        "id": "6yWD37-lhKSK",
        "outputId": "e11f3489-17e1-4f82-a083-9c6dae0e2b11"
      },
      "source": [
        "train_data.shape"
      ],
      "execution_count": 13,
      "outputs": [
        {
          "output_type": "execute_result",
          "data": {
            "text/plain": [
              "(26064, 7)"
            ]
          },
          "metadata": {
            "tags": []
          },
          "execution_count": 13
        }
      ]
    },
    {
      "cell_type": "code",
      "metadata": {
        "id": "cNVta-8TrNN8",
        "colab": {
          "base_uri": "https://localhost:8080/",
          "height": 525
        },
        "outputId": "f08b78da-6d51-4255-debc-d35b13915750"
      },
      "source": [
        "sample = train_data.sample(frac=1).head(1)\n",
        "context = sample.doc_tokens.values\n",
        "train_data[train_data.doc_tokens.values==context]"
      ],
      "execution_count": 14,
      "outputs": [
        {
          "output_type": "execute_result",
          "data": {
            "text/html": [
              "<div>\n",
              "<style scoped>\n",
              "    .dataframe tbody tr th:only-of-type {\n",
              "        vertical-align: middle;\n",
              "    }\n",
              "\n",
              "    .dataframe tbody tr th {\n",
              "        vertical-align: top;\n",
              "    }\n",
              "\n",
              "    .dataframe thead th {\n",
              "        text-align: right;\n",
              "    }\n",
              "</style>\n",
              "<table border=\"1\" class=\"dataframe\">\n",
              "  <thead>\n",
              "    <tr style=\"text-align: right;\">\n",
              "      <th></th>\n",
              "      <th>qas_id</th>\n",
              "      <th>question_text</th>\n",
              "      <th>doc_tokens</th>\n",
              "      <th>orig_answer_text</th>\n",
              "      <th>start_position</th>\n",
              "      <th>end_position</th>\n",
              "      <th>is_impossible</th>\n",
              "    </tr>\n",
              "  </thead>\n",
              "  <tbody>\n",
              "    <tr>\n",
              "      <th>21435</th>\n",
              "      <td>56e8ea980b45c0140094cd61</td>\n",
              "      <td>What kind of church is Westminster Abbey?</td>\n",
              "      <td>[Westminster, Abbey, is, a, collegiate, church...</td>\n",
              "      <td>collegiate church</td>\n",
              "      <td>4</td>\n",
              "      <td>5</td>\n",
              "      <td>False</td>\n",
              "    </tr>\n",
              "    <tr>\n",
              "      <th>21436</th>\n",
              "      <td>56e8ea980b45c0140094cd62</td>\n",
              "      <td>Who created Westminster Abbey as the Collegiat...</td>\n",
              "      <td>[Westminster, Abbey, is, a, collegiate, church...</td>\n",
              "      <td>Queen Elizabeth I</td>\n",
              "      <td>20</td>\n",
              "      <td>22</td>\n",
              "      <td>False</td>\n",
              "    </tr>\n",
              "    <tr>\n",
              "      <th>21437</th>\n",
              "      <td>56e8ea980b45c0140094cd63</td>\n",
              "      <td>Who governs the church?</td>\n",
              "      <td>[Westminster, Abbey, is, a, collegiate, church...</td>\n",
              "      <td>the Dean and Chapter of Westminster</td>\n",
              "      <td>8</td>\n",
              "      <td>13</td>\n",
              "      <td>False</td>\n",
              "    </tr>\n",
              "    <tr>\n",
              "      <th>21438</th>\n",
              "      <td>56e8ea980b45c0140094cd64</td>\n",
              "      <td>Who are the members of the chapter of Westmins...</td>\n",
              "      <td>[Westminster, Abbey, is, a, collegiate, church...</td>\n",
              "      <td>the Dean and four canons residentiary</td>\n",
              "      <td>53</td>\n",
              "      <td>58</td>\n",
              "      <td>False</td>\n",
              "    </tr>\n",
              "    <tr>\n",
              "      <th>21439</th>\n",
              "      <td>56e8ea980b45c0140094cd65</td>\n",
              "      <td>Who assist the chapter of Westminster?</td>\n",
              "      <td>[Westminster, Abbey, is, a, collegiate, church...</td>\n",
              "      <td>the Receiver General and Chapter Clerk</td>\n",
              "      <td>61</td>\n",
              "      <td>66</td>\n",
              "      <td>False</td>\n",
              "    </tr>\n",
              "    <tr>\n",
              "      <th>21440</th>\n",
              "      <td>5ad3f8b5604f3c001a3ffa7b</td>\n",
              "      <td>What kind of church isn't Westminster Abbey?</td>\n",
              "      <td>[Westminster, Abbey, is, a, collegiate, church...</td>\n",
              "      <td></td>\n",
              "      <td>-1</td>\n",
              "      <td>-1</td>\n",
              "      <td>True</td>\n",
              "    </tr>\n",
              "    <tr>\n",
              "      <th>21441</th>\n",
              "      <td>5ad3f8b5604f3c001a3ffa7c</td>\n",
              "      <td>Who hated Westminster Abbey as the Collegiate ...</td>\n",
              "      <td>[Westminster, Abbey, is, a, collegiate, church...</td>\n",
              "      <td></td>\n",
              "      <td>-1</td>\n",
              "      <td>-1</td>\n",
              "      <td>True</td>\n",
              "    </tr>\n",
              "    <tr>\n",
              "      <th>21442</th>\n",
              "      <td>5ad3f8b5604f3c001a3ffa7d</td>\n",
              "      <td>Who governs the school?</td>\n",
              "      <td>[Westminster, Abbey, is, a, collegiate, church...</td>\n",
              "      <td></td>\n",
              "      <td>-1</td>\n",
              "      <td>-1</td>\n",
              "      <td>True</td>\n",
              "    </tr>\n",
              "    <tr>\n",
              "      <th>21443</th>\n",
              "      <td>5ad3f8b5604f3c001a3ffa7e</td>\n",
              "      <td>Who aren't the members of the chapter of Westm...</td>\n",
              "      <td>[Westminster, Abbey, is, a, collegiate, church...</td>\n",
              "      <td></td>\n",
              "      <td>-1</td>\n",
              "      <td>-1</td>\n",
              "      <td>True</td>\n",
              "    </tr>\n",
              "    <tr>\n",
              "      <th>21444</th>\n",
              "      <td>5ad3f8b5604f3c001a3ffa7f</td>\n",
              "      <td>Who rejects the chapter of Westminster?</td>\n",
              "      <td>[Westminster, Abbey, is, a, collegiate, church...</td>\n",
              "      <td></td>\n",
              "      <td>-1</td>\n",
              "      <td>-1</td>\n",
              "      <td>True</td>\n",
              "    </tr>\n",
              "  </tbody>\n",
              "</table>\n",
              "</div>"
            ],
            "text/plain": [
              "                         qas_id  ... is_impossible\n",
              "21435  56e8ea980b45c0140094cd61  ...         False\n",
              "21436  56e8ea980b45c0140094cd62  ...         False\n",
              "21437  56e8ea980b45c0140094cd63  ...         False\n",
              "21438  56e8ea980b45c0140094cd64  ...         False\n",
              "21439  56e8ea980b45c0140094cd65  ...         False\n",
              "21440  5ad3f8b5604f3c001a3ffa7b  ...          True\n",
              "21441  5ad3f8b5604f3c001a3ffa7c  ...          True\n",
              "21442  5ad3f8b5604f3c001a3ffa7d  ...          True\n",
              "21443  5ad3f8b5604f3c001a3ffa7e  ...          True\n",
              "21444  5ad3f8b5604f3c001a3ffa7f  ...          True\n",
              "\n",
              "[10 rows x 7 columns]"
            ]
          },
          "metadata": {
            "tags": []
          },
          "execution_count": 14
        }
      ]
    },
    {
      "cell_type": "code",
      "metadata": {
        "id": "86ObEyQtkqjs"
      },
      "source": [
        "import random\n",
        "def print_squad_sample(train_data, line_length=14, separator_length=120):\n",
        "  sample = train_data.sample(frac=1).head(1)\n",
        "  context = sample.doc_tokens.values\n",
        "  print('='*separator_length)\n",
        "  print('CONTEXT: ')\n",
        "  print('='*separator_length)\n",
        "  lines = [' '.join(context[0][idx:idx+line_length]) for idx in range(0, len(context[0]), line_length)]\n",
        "  for l in lines:\n",
        "      print(l)\n",
        "  print('='*separator_length)\n",
        "  questions = train_data[train_data.doc_tokens.values==context]\n",
        "  print('QUESTION:', ' '*(3*separator_length//4), 'ANSWER:')\n",
        "  for idx, row in questions.iterrows():\n",
        "    question = row.question_text\n",
        "    answer = row.orig_answer_text\n",
        "    print(question, ' '*(3*separator_length//4-len(question)+9), (answer if answer else 'No awnser found'))"
      ],
      "execution_count": 15,
      "outputs": []
    },
    {
      "cell_type": "code",
      "metadata": {
        "id": "zU4S6x0YnnPT",
        "colab": {
          "base_uri": "https://localhost:8080/"
        },
        "outputId": "cbccefd7-4803-4d18-d44c-fb3e6da8d039"
      },
      "source": [
        "print_squad_sample(train_data)"
      ],
      "execution_count": 16,
      "outputs": [
        {
          "output_type": "stream",
          "text": [
            "========================================================================================================================\n",
            "CONTEXT: \n",
            "========================================================================================================================\n",
            "The UK government has spent £250 million in the construction of the island's airport.\n",
            "Expected to be fully operational early 2016, it is expected to help the island\n",
            "towards self-sufficiency and encourage economic development, reducing dependence on British government aid. The airport\n",
            "is also expected to kick start the tourism industry, with up to 30,000 visitors\n",
            "expected annually. As of August, 2015 ticketing was postponed until an airline could be\n",
            "firmly designated.\n",
            "========================================================================================================================\n",
            "QUESTION:                                                                                            ANSWER:\n",
            "How much money was spent on construction of the island's airport?                                    250 million\n",
            "Which government built the island's airport?                                                         UK government\n",
            "When was the airport expected to be fully functional?                                                early 2016\n",
            "Which industry is the airport supposed to help when it becomes complete?                             tourism\n",
            "How many tourists are expected annually thanks to the airport?                                       up to 30,000\n"
          ],
          "name": "stdout"
        }
      ]
    },
    {
      "cell_type": "code",
      "metadata": {
        "id": "Bbnphaodvb_u"
      },
      "source": [
        ""
      ],
      "execution_count": 16,
      "outputs": []
    },
    {
      "cell_type": "code",
      "metadata": {
        "id": "H3yDIGj8t1_M",
        "colab": {
          "base_uri": "https://localhost:8080/",
          "height": 287
        },
        "outputId": "29709863-f272-4c5e-ceb0-0d9c02ff2a8f"
      },
      "source": [
        "\n",
        "train_data['paragraph_len'] = train_data['doc_tokens'].apply(len)\n",
        "train_data['question_len'] = train_data['question_text'].apply(len)\n",
        "train_data.sample(frac=1).head(5)"
      ],
      "execution_count": 17,
      "outputs": [
        {
          "output_type": "execute_result",
          "data": {
            "text/html": [
              "<div>\n",
              "<style scoped>\n",
              "    .dataframe tbody tr th:only-of-type {\n",
              "        vertical-align: middle;\n",
              "    }\n",
              "\n",
              "    .dataframe tbody tr th {\n",
              "        vertical-align: top;\n",
              "    }\n",
              "\n",
              "    .dataframe thead th {\n",
              "        text-align: right;\n",
              "    }\n",
              "</style>\n",
              "<table border=\"1\" class=\"dataframe\">\n",
              "  <thead>\n",
              "    <tr style=\"text-align: right;\">\n",
              "      <th></th>\n",
              "      <th>qas_id</th>\n",
              "      <th>question_text</th>\n",
              "      <th>doc_tokens</th>\n",
              "      <th>orig_answer_text</th>\n",
              "      <th>start_position</th>\n",
              "      <th>end_position</th>\n",
              "      <th>is_impossible</th>\n",
              "      <th>paragraph_len</th>\n",
              "      <th>question_len</th>\n",
              "    </tr>\n",
              "  </thead>\n",
              "  <tbody>\n",
              "    <tr>\n",
              "      <th>13809</th>\n",
              "      <td>5ace05dc32bba1001ae4998b</td>\n",
              "      <td>Along with Sakhalin Island, what islands were ...</td>\n",
              "      <td>[At, the, end, of, World, War, II, Soviet, tro...</td>\n",
              "      <td></td>\n",
              "      <td>-1</td>\n",
              "      <td>-1</td>\n",
              "      <td>True</td>\n",
              "      <td>34</td>\n",
              "      <td>96</td>\n",
              "    </tr>\n",
              "    <tr>\n",
              "      <th>11526</th>\n",
              "      <td>56de67e0cffd8e1900b4b88a</td>\n",
              "      <td>What does 'TAMARI OSTIA' mean?</td>\n",
              "      <td>[Upper, Palaeolithic, deposits,, including, bo...</td>\n",
              "      <td>mouth/estuaries of the Tamar</td>\n",
              "      <td>54</td>\n",
              "      <td>57</td>\n",
              "      <td>False</td>\n",
              "      <td>76</td>\n",
              "      <td>30</td>\n",
              "    </tr>\n",
              "    <tr>\n",
              "      <th>1335</th>\n",
              "      <td>56cfef3c234ae51400d9c10f</td>\n",
              "      <td>The Funeral March was written as part of what ...</td>\n",
              "      <td>[Some, of, Chopin's, well-known, pieces, have,...</td>\n",
              "      <td>Sonata No. 2</td>\n",
              "      <td>102</td>\n",
              "      <td>104</td>\n",
              "      <td>False</td>\n",
              "      <td>136</td>\n",
              "      <td>52</td>\n",
              "    </tr>\n",
              "    <tr>\n",
              "      <th>12912</th>\n",
              "      <td>56df4c368bc80c19004e4a29</td>\n",
              "      <td>How many square miles is Oklahoma City?</td>\n",
              "      <td>[According, to, the, United, States, Census, B...</td>\n",
              "      <td>620.34 square miles</td>\n",
              "      <td>14</td>\n",
              "      <td>16</td>\n",
              "      <td>False</td>\n",
              "      <td>47</td>\n",
              "      <td>39</td>\n",
              "    </tr>\n",
              "    <tr>\n",
              "      <th>4748</th>\n",
              "      <td>56d0fb7817492d1400aab6dd</td>\n",
              "      <td>At what age did Kanye West relocate to China?</td>\n",
              "      <td>[At, the, age, of, 10,, West, moved, with, his...</td>\n",
              "      <td>10</td>\n",
              "      <td>4</td>\n",
              "      <td>4</td>\n",
              "      <td>False</td>\n",
              "      <td>76</td>\n",
              "      <td>45</td>\n",
              "    </tr>\n",
              "  </tbody>\n",
              "</table>\n",
              "</div>"
            ],
            "text/plain": [
              "                         qas_id  ... question_len\n",
              "13809  5ace05dc32bba1001ae4998b  ...           96\n",
              "11526  56de67e0cffd8e1900b4b88a  ...           30\n",
              "1335   56cfef3c234ae51400d9c10f  ...           52\n",
              "12912  56df4c368bc80c19004e4a29  ...           39\n",
              "4748   56d0fb7817492d1400aab6dd  ...           45\n",
              "\n",
              "[5 rows x 9 columns]"
            ]
          },
          "metadata": {
            "tags": []
          },
          "execution_count": 17
        }
      ]
    },
    {
      "cell_type": "code",
      "metadata": {
        "id": "2VduHO4WoXwp",
        "colab": {
          "base_uri": "https://localhost:8080/"
        },
        "outputId": "daf0b491-0e77-415d-8747-2ee45211b6ba"
      },
      "source": [
        "max_seq_length = 256\n",
        "print(\"Percentage of context's less than max_seq_length = %s%%\" % (len([l for l in train_data['paragraph_len'] if l <= max_seq_length])/len(train_data) * 100))"
      ],
      "execution_count": 18,
      "outputs": [
        {
          "output_type": "stream",
          "text": [
            "Percentage of context's less than max_seq_length = 98.77608962553714%\n"
          ],
          "name": "stdout"
        }
      ]
    },
    {
      "cell_type": "code",
      "metadata": {
        "id": "zywEw_BZtx5l",
        "colab": {
          "base_uri": "https://localhost:8080/"
        },
        "outputId": "3b903b4f-268f-4e55-9137-319f7235dd95"
      },
      "source": [
        "tokenizer = BertTokenizer.from_pretrained('bert-base-uncased')"
      ],
      "execution_count": 19,
      "outputs": [
        {
          "output_type": "stream",
          "text": [
            "100%|██████████| 231508/231508 [00:00<00:00, 953446.72B/s]\n"
          ],
          "name": "stderr"
        }
      ]
    },
    {
      "cell_type": "code",
      "metadata": {
        "id": "_Dj9SoVnuSh2"
      },
      "source": [
        "doc_stride = 128\n",
        "max_seq_length = 256\n",
        "max_query_length = 64\n",
        "# batch size of 64 if RAM available.\n",
        "batch_size = 32"
      ],
      "execution_count": 20,
      "outputs": []
    },
    {
      "cell_type": "code",
      "metadata": {
        "id": "DS2oM0q3pdni"
      },
      "source": [
        "cached_features_file = '/drive/My Drive/Medium/cache_train'"
      ],
      "execution_count": 21,
      "outputs": []
    },
    {
      "cell_type": "code",
      "metadata": {
        "id": "OxXiC4G2uUwa"
      },
      "source": [
        "if not os.path.exists(cached_features_file):\n",
        "  features = convert_examples_to_features(examples=examples,\n",
        "                                        tokenizer=tokenizer,\n",
        "                                        max_seq_length=max_seq_length,\n",
        "                                        doc_stride=doc_stride,\n",
        "                                        max_query_length=max_query_length,\n",
        "                                        is_training=True)\n",
        "  torch.save(features, cached_features_file)\n",
        "else:\n",
        "  features = torch.load(cached_features_file)"
      ],
      "execution_count": 22,
      "outputs": []
    },
    {
      "cell_type": "code",
      "metadata": {
        "id": "KqKRwvvjuW1I"
      },
      "source": [
        "def set_seed(seed=42):\n",
        "    np.random.seed(seed)\n",
        "    torch.manual_seed(seed)\n",
        "    torch.cuda.manual_seed_all(seed)"
      ],
      "execution_count": 23,
      "outputs": []
    },
    {
      "cell_type": "code",
      "metadata": {
        "id": "Q8wpGNktunPQ"
      },
      "source": [
        "# Convert to Tensors and build dataset\n",
        "all_input_ids = torch.tensor([f.input_ids for f in features], dtype=torch.long)\n",
        "all_input_mask = torch.tensor([f.input_mask for f in features], dtype=torch.long)\n",
        "all_segment_ids = torch.tensor([f.segment_ids for f in features], dtype=torch.long)\n",
        "all_cls_index = torch.tensor([f.cls_index for f in features], dtype=torch.long)\n",
        "all_p_mask = torch.tensor([f.p_mask for f in features], dtype=torch.float)\n",
        "\n",
        "all_start_positions = torch.tensor([f.start_position for f in features], dtype=torch.long)\n",
        "all_end_positions = torch.tensor([f.end_position for f in features], dtype=torch.long)\n",
        "dataset = TensorDataset(all_input_ids, all_input_mask, all_segment_ids,\n",
        "                        all_start_positions, all_end_positions,\n",
        "                        all_cls_index, all_p_mask)"
      ],
      "execution_count": 24,
      "outputs": []
    },
    {
      "cell_type": "code",
      "metadata": {
        "id": "siznTVwRuvkC"
      },
      "source": [
        "train_sampler = RandomSampler(dataset)\n",
        "train_dataloader = DataLoader(dataset, sampler=train_sampler, batch_size=batch_size, drop_last=True)"
      ],
      "execution_count": 25,
      "outputs": []
    },
    {
      "cell_type": "code",
      "metadata": {
        "id": "HfJGpCMcu01s"
      },
      "source": [
        "import glob\n",
        "checkpoints = sorted(glob.glob('/drive/My Drive/Medium/checkpoint*-[0-9]*'))"
      ],
      "execution_count": 26,
      "outputs": []
    },
    {
      "cell_type": "code",
      "metadata": {
        "id": "FE-mmGhwIJWe"
      },
      "source": [
        "def to_list(tensor):\n",
        "    return tensor.detach().cpu().tolist()"
      ],
      "execution_count": 27,
      "outputs": []
    },
    {
      "cell_type": "code",
      "metadata": {
        "colab": {
          "base_uri": "https://localhost:8080/"
        },
        "id": "aRme3-xP66jc",
        "outputId": "e71ecc72-e6f3-44e9-a01c-503dffdf2c03"
      },
      "source": [
        "checkpoints"
      ],
      "execution_count": 28,
      "outputs": [
        {
          "output_type": "execute_result",
          "data": {
            "text/plain": [
              "[]"
            ]
          },
          "metadata": {
            "tags": []
          },
          "execution_count": 28
        }
      ]
    },
    {
      "cell_type": "code",
      "metadata": {
        "id": "d06HFmPmu3Yq",
        "colab": {
          "base_uri": "https://localhost:8080/"
        },
        "outputId": "6a4e4275-d684-40ab-f61d-ed276acd7a58"
      },
      "source": [
        "if len(checkpoints) > 0:\n",
        "  global_step = checkpoints[-1].split('-')[-1]\n",
        "  ckpt_name = '/drive/My Drive/Medium/checkpoint-{}'.format(global_step)\n",
        "  print(\"Loading model from checkpoint %s\" % ckpt_name)\n",
        "  model = BertForQuestionAnswering.from_pretrained(ckpt_name)\n",
        "  train_loss_set_ckpt = torch.load(ckpt_name + '/training_loss.pt')\n",
        "  train_loss_set = to_list(train_loss_set_ckpt)\n",
        "  tr_loss = train_loss_set[-1]\n",
        "else:\n",
        "  global_step = 0\n",
        "  train_loss_set = []\n",
        "  tr_loss = 0.0\n",
        "  model = BertForQuestionAnswering.from_pretrained('bert-base-uncased')\n",
        "\n",
        "model.cuda()"
      ],
      "execution_count": 29,
      "outputs": [
        {
          "output_type": "stream",
          "text": [
            "100%|██████████| 433/433 [00:00<00:00, 182415.99B/s]\n",
            "100%|██████████| 440473133/440473133 [00:10<00:00, 41571685.75B/s]\n"
          ],
          "name": "stderr"
        },
        {
          "output_type": "execute_result",
          "data": {
            "text/plain": [
              "BertForQuestionAnswering(\n",
              "  (bert): BertModel(\n",
              "    (embeddings): BertEmbeddings(\n",
              "      (word_embeddings): Embedding(30522, 768, padding_idx=0)\n",
              "      (position_embeddings): Embedding(512, 768)\n",
              "      (token_type_embeddings): Embedding(2, 768)\n",
              "      (LayerNorm): LayerNorm((768,), eps=1e-12, elementwise_affine=True)\n",
              "      (dropout): Dropout(p=0.1, inplace=False)\n",
              "    )\n",
              "    (encoder): BertEncoder(\n",
              "      (layer): ModuleList(\n",
              "        (0): BertLayer(\n",
              "          (attention): BertAttention(\n",
              "            (self): BertSelfAttention(\n",
              "              (query): Linear(in_features=768, out_features=768, bias=True)\n",
              "              (key): Linear(in_features=768, out_features=768, bias=True)\n",
              "              (value): Linear(in_features=768, out_features=768, bias=True)\n",
              "              (dropout): Dropout(p=0.1, inplace=False)\n",
              "            )\n",
              "            (output): BertSelfOutput(\n",
              "              (dense): Linear(in_features=768, out_features=768, bias=True)\n",
              "              (LayerNorm): LayerNorm((768,), eps=1e-12, elementwise_affine=True)\n",
              "              (dropout): Dropout(p=0.1, inplace=False)\n",
              "            )\n",
              "          )\n",
              "          (intermediate): BertIntermediate(\n",
              "            (dense): Linear(in_features=768, out_features=3072, bias=True)\n",
              "          )\n",
              "          (output): BertOutput(\n",
              "            (dense): Linear(in_features=3072, out_features=768, bias=True)\n",
              "            (LayerNorm): LayerNorm((768,), eps=1e-12, elementwise_affine=True)\n",
              "            (dropout): Dropout(p=0.1, inplace=False)\n",
              "          )\n",
              "        )\n",
              "        (1): BertLayer(\n",
              "          (attention): BertAttention(\n",
              "            (self): BertSelfAttention(\n",
              "              (query): Linear(in_features=768, out_features=768, bias=True)\n",
              "              (key): Linear(in_features=768, out_features=768, bias=True)\n",
              "              (value): Linear(in_features=768, out_features=768, bias=True)\n",
              "              (dropout): Dropout(p=0.1, inplace=False)\n",
              "            )\n",
              "            (output): BertSelfOutput(\n",
              "              (dense): Linear(in_features=768, out_features=768, bias=True)\n",
              "              (LayerNorm): LayerNorm((768,), eps=1e-12, elementwise_affine=True)\n",
              "              (dropout): Dropout(p=0.1, inplace=False)\n",
              "            )\n",
              "          )\n",
              "          (intermediate): BertIntermediate(\n",
              "            (dense): Linear(in_features=768, out_features=3072, bias=True)\n",
              "          )\n",
              "          (output): BertOutput(\n",
              "            (dense): Linear(in_features=3072, out_features=768, bias=True)\n",
              "            (LayerNorm): LayerNorm((768,), eps=1e-12, elementwise_affine=True)\n",
              "            (dropout): Dropout(p=0.1, inplace=False)\n",
              "          )\n",
              "        )\n",
              "        (2): BertLayer(\n",
              "          (attention): BertAttention(\n",
              "            (self): BertSelfAttention(\n",
              "              (query): Linear(in_features=768, out_features=768, bias=True)\n",
              "              (key): Linear(in_features=768, out_features=768, bias=True)\n",
              "              (value): Linear(in_features=768, out_features=768, bias=True)\n",
              "              (dropout): Dropout(p=0.1, inplace=False)\n",
              "            )\n",
              "            (output): BertSelfOutput(\n",
              "              (dense): Linear(in_features=768, out_features=768, bias=True)\n",
              "              (LayerNorm): LayerNorm((768,), eps=1e-12, elementwise_affine=True)\n",
              "              (dropout): Dropout(p=0.1, inplace=False)\n",
              "            )\n",
              "          )\n",
              "          (intermediate): BertIntermediate(\n",
              "            (dense): Linear(in_features=768, out_features=3072, bias=True)\n",
              "          )\n",
              "          (output): BertOutput(\n",
              "            (dense): Linear(in_features=3072, out_features=768, bias=True)\n",
              "            (LayerNorm): LayerNorm((768,), eps=1e-12, elementwise_affine=True)\n",
              "            (dropout): Dropout(p=0.1, inplace=False)\n",
              "          )\n",
              "        )\n",
              "        (3): BertLayer(\n",
              "          (attention): BertAttention(\n",
              "            (self): BertSelfAttention(\n",
              "              (query): Linear(in_features=768, out_features=768, bias=True)\n",
              "              (key): Linear(in_features=768, out_features=768, bias=True)\n",
              "              (value): Linear(in_features=768, out_features=768, bias=True)\n",
              "              (dropout): Dropout(p=0.1, inplace=False)\n",
              "            )\n",
              "            (output): BertSelfOutput(\n",
              "              (dense): Linear(in_features=768, out_features=768, bias=True)\n",
              "              (LayerNorm): LayerNorm((768,), eps=1e-12, elementwise_affine=True)\n",
              "              (dropout): Dropout(p=0.1, inplace=False)\n",
              "            )\n",
              "          )\n",
              "          (intermediate): BertIntermediate(\n",
              "            (dense): Linear(in_features=768, out_features=3072, bias=True)\n",
              "          )\n",
              "          (output): BertOutput(\n",
              "            (dense): Linear(in_features=3072, out_features=768, bias=True)\n",
              "            (LayerNorm): LayerNorm((768,), eps=1e-12, elementwise_affine=True)\n",
              "            (dropout): Dropout(p=0.1, inplace=False)\n",
              "          )\n",
              "        )\n",
              "        (4): BertLayer(\n",
              "          (attention): BertAttention(\n",
              "            (self): BertSelfAttention(\n",
              "              (query): Linear(in_features=768, out_features=768, bias=True)\n",
              "              (key): Linear(in_features=768, out_features=768, bias=True)\n",
              "              (value): Linear(in_features=768, out_features=768, bias=True)\n",
              "              (dropout): Dropout(p=0.1, inplace=False)\n",
              "            )\n",
              "            (output): BertSelfOutput(\n",
              "              (dense): Linear(in_features=768, out_features=768, bias=True)\n",
              "              (LayerNorm): LayerNorm((768,), eps=1e-12, elementwise_affine=True)\n",
              "              (dropout): Dropout(p=0.1, inplace=False)\n",
              "            )\n",
              "          )\n",
              "          (intermediate): BertIntermediate(\n",
              "            (dense): Linear(in_features=768, out_features=3072, bias=True)\n",
              "          )\n",
              "          (output): BertOutput(\n",
              "            (dense): Linear(in_features=3072, out_features=768, bias=True)\n",
              "            (LayerNorm): LayerNorm((768,), eps=1e-12, elementwise_affine=True)\n",
              "            (dropout): Dropout(p=0.1, inplace=False)\n",
              "          )\n",
              "        )\n",
              "        (5): BertLayer(\n",
              "          (attention): BertAttention(\n",
              "            (self): BertSelfAttention(\n",
              "              (query): Linear(in_features=768, out_features=768, bias=True)\n",
              "              (key): Linear(in_features=768, out_features=768, bias=True)\n",
              "              (value): Linear(in_features=768, out_features=768, bias=True)\n",
              "              (dropout): Dropout(p=0.1, inplace=False)\n",
              "            )\n",
              "            (output): BertSelfOutput(\n",
              "              (dense): Linear(in_features=768, out_features=768, bias=True)\n",
              "              (LayerNorm): LayerNorm((768,), eps=1e-12, elementwise_affine=True)\n",
              "              (dropout): Dropout(p=0.1, inplace=False)\n",
              "            )\n",
              "          )\n",
              "          (intermediate): BertIntermediate(\n",
              "            (dense): Linear(in_features=768, out_features=3072, bias=True)\n",
              "          )\n",
              "          (output): BertOutput(\n",
              "            (dense): Linear(in_features=3072, out_features=768, bias=True)\n",
              "            (LayerNorm): LayerNorm((768,), eps=1e-12, elementwise_affine=True)\n",
              "            (dropout): Dropout(p=0.1, inplace=False)\n",
              "          )\n",
              "        )\n",
              "        (6): BertLayer(\n",
              "          (attention): BertAttention(\n",
              "            (self): BertSelfAttention(\n",
              "              (query): Linear(in_features=768, out_features=768, bias=True)\n",
              "              (key): Linear(in_features=768, out_features=768, bias=True)\n",
              "              (value): Linear(in_features=768, out_features=768, bias=True)\n",
              "              (dropout): Dropout(p=0.1, inplace=False)\n",
              "            )\n",
              "            (output): BertSelfOutput(\n",
              "              (dense): Linear(in_features=768, out_features=768, bias=True)\n",
              "              (LayerNorm): LayerNorm((768,), eps=1e-12, elementwise_affine=True)\n",
              "              (dropout): Dropout(p=0.1, inplace=False)\n",
              "            )\n",
              "          )\n",
              "          (intermediate): BertIntermediate(\n",
              "            (dense): Linear(in_features=768, out_features=3072, bias=True)\n",
              "          )\n",
              "          (output): BertOutput(\n",
              "            (dense): Linear(in_features=3072, out_features=768, bias=True)\n",
              "            (LayerNorm): LayerNorm((768,), eps=1e-12, elementwise_affine=True)\n",
              "            (dropout): Dropout(p=0.1, inplace=False)\n",
              "          )\n",
              "        )\n",
              "        (7): BertLayer(\n",
              "          (attention): BertAttention(\n",
              "            (self): BertSelfAttention(\n",
              "              (query): Linear(in_features=768, out_features=768, bias=True)\n",
              "              (key): Linear(in_features=768, out_features=768, bias=True)\n",
              "              (value): Linear(in_features=768, out_features=768, bias=True)\n",
              "              (dropout): Dropout(p=0.1, inplace=False)\n",
              "            )\n",
              "            (output): BertSelfOutput(\n",
              "              (dense): Linear(in_features=768, out_features=768, bias=True)\n",
              "              (LayerNorm): LayerNorm((768,), eps=1e-12, elementwise_affine=True)\n",
              "              (dropout): Dropout(p=0.1, inplace=False)\n",
              "            )\n",
              "          )\n",
              "          (intermediate): BertIntermediate(\n",
              "            (dense): Linear(in_features=768, out_features=3072, bias=True)\n",
              "          )\n",
              "          (output): BertOutput(\n",
              "            (dense): Linear(in_features=3072, out_features=768, bias=True)\n",
              "            (LayerNorm): LayerNorm((768,), eps=1e-12, elementwise_affine=True)\n",
              "            (dropout): Dropout(p=0.1, inplace=False)\n",
              "          )\n",
              "        )\n",
              "        (8): BertLayer(\n",
              "          (attention): BertAttention(\n",
              "            (self): BertSelfAttention(\n",
              "              (query): Linear(in_features=768, out_features=768, bias=True)\n",
              "              (key): Linear(in_features=768, out_features=768, bias=True)\n",
              "              (value): Linear(in_features=768, out_features=768, bias=True)\n",
              "              (dropout): Dropout(p=0.1, inplace=False)\n",
              "            )\n",
              "            (output): BertSelfOutput(\n",
              "              (dense): Linear(in_features=768, out_features=768, bias=True)\n",
              "              (LayerNorm): LayerNorm((768,), eps=1e-12, elementwise_affine=True)\n",
              "              (dropout): Dropout(p=0.1, inplace=False)\n",
              "            )\n",
              "          )\n",
              "          (intermediate): BertIntermediate(\n",
              "            (dense): Linear(in_features=768, out_features=3072, bias=True)\n",
              "          )\n",
              "          (output): BertOutput(\n",
              "            (dense): Linear(in_features=3072, out_features=768, bias=True)\n",
              "            (LayerNorm): LayerNorm((768,), eps=1e-12, elementwise_affine=True)\n",
              "            (dropout): Dropout(p=0.1, inplace=False)\n",
              "          )\n",
              "        )\n",
              "        (9): BertLayer(\n",
              "          (attention): BertAttention(\n",
              "            (self): BertSelfAttention(\n",
              "              (query): Linear(in_features=768, out_features=768, bias=True)\n",
              "              (key): Linear(in_features=768, out_features=768, bias=True)\n",
              "              (value): Linear(in_features=768, out_features=768, bias=True)\n",
              "              (dropout): Dropout(p=0.1, inplace=False)\n",
              "            )\n",
              "            (output): BertSelfOutput(\n",
              "              (dense): Linear(in_features=768, out_features=768, bias=True)\n",
              "              (LayerNorm): LayerNorm((768,), eps=1e-12, elementwise_affine=True)\n",
              "              (dropout): Dropout(p=0.1, inplace=False)\n",
              "            )\n",
              "          )\n",
              "          (intermediate): BertIntermediate(\n",
              "            (dense): Linear(in_features=768, out_features=3072, bias=True)\n",
              "          )\n",
              "          (output): BertOutput(\n",
              "            (dense): Linear(in_features=3072, out_features=768, bias=True)\n",
              "            (LayerNorm): LayerNorm((768,), eps=1e-12, elementwise_affine=True)\n",
              "            (dropout): Dropout(p=0.1, inplace=False)\n",
              "          )\n",
              "        )\n",
              "        (10): BertLayer(\n",
              "          (attention): BertAttention(\n",
              "            (self): BertSelfAttention(\n",
              "              (query): Linear(in_features=768, out_features=768, bias=True)\n",
              "              (key): Linear(in_features=768, out_features=768, bias=True)\n",
              "              (value): Linear(in_features=768, out_features=768, bias=True)\n",
              "              (dropout): Dropout(p=0.1, inplace=False)\n",
              "            )\n",
              "            (output): BertSelfOutput(\n",
              "              (dense): Linear(in_features=768, out_features=768, bias=True)\n",
              "              (LayerNorm): LayerNorm((768,), eps=1e-12, elementwise_affine=True)\n",
              "              (dropout): Dropout(p=0.1, inplace=False)\n",
              "            )\n",
              "          )\n",
              "          (intermediate): BertIntermediate(\n",
              "            (dense): Linear(in_features=768, out_features=3072, bias=True)\n",
              "          )\n",
              "          (output): BertOutput(\n",
              "            (dense): Linear(in_features=3072, out_features=768, bias=True)\n",
              "            (LayerNorm): LayerNorm((768,), eps=1e-12, elementwise_affine=True)\n",
              "            (dropout): Dropout(p=0.1, inplace=False)\n",
              "          )\n",
              "        )\n",
              "        (11): BertLayer(\n",
              "          (attention): BertAttention(\n",
              "            (self): BertSelfAttention(\n",
              "              (query): Linear(in_features=768, out_features=768, bias=True)\n",
              "              (key): Linear(in_features=768, out_features=768, bias=True)\n",
              "              (value): Linear(in_features=768, out_features=768, bias=True)\n",
              "              (dropout): Dropout(p=0.1, inplace=False)\n",
              "            )\n",
              "            (output): BertSelfOutput(\n",
              "              (dense): Linear(in_features=768, out_features=768, bias=True)\n",
              "              (LayerNorm): LayerNorm((768,), eps=1e-12, elementwise_affine=True)\n",
              "              (dropout): Dropout(p=0.1, inplace=False)\n",
              "            )\n",
              "          )\n",
              "          (intermediate): BertIntermediate(\n",
              "            (dense): Linear(in_features=768, out_features=3072, bias=True)\n",
              "          )\n",
              "          (output): BertOutput(\n",
              "            (dense): Linear(in_features=3072, out_features=768, bias=True)\n",
              "            (LayerNorm): LayerNorm((768,), eps=1e-12, elementwise_affine=True)\n",
              "            (dropout): Dropout(p=0.1, inplace=False)\n",
              "          )\n",
              "        )\n",
              "      )\n",
              "    )\n",
              "    (pooler): BertPooler(\n",
              "      (dense): Linear(in_features=768, out_features=768, bias=True)\n",
              "      (activation): Tanh()\n",
              "    )\n",
              "  )\n",
              "  (qa_outputs): Linear(in_features=768, out_features=2, bias=True)\n",
              ")"
            ]
          },
          "metadata": {
            "tags": []
          },
          "execution_count": 29
        }
      ]
    },
    {
      "cell_type": "code",
      "metadata": {
        "id": "_t19YTyEu5V4",
        "colab": {
          "base_uri": "https://localhost:8080/"
        },
        "outputId": "d9d27832-c8e4-4fcb-9f55-bb73e2ffe190"
      },
      "source": [
        "param_optimizer = list(model.named_parameters())\n",
        "print(param_optimizer[-2])\n",
        "print(param_optimizer[-1])"
      ],
      "execution_count": 30,
      "outputs": [
        {
          "output_type": "stream",
          "text": [
            "('qa_outputs.weight', Parameter containing:\n",
            "tensor([[-0.0005, -0.0060, -0.0009,  ..., -0.0041, -0.0082, -0.0096],\n",
            "        [-0.0053,  0.0101,  0.0138,  ...,  0.0166,  0.0042,  0.0201]],\n",
            "       device='cuda:0', requires_grad=True))\n",
            "('qa_outputs.bias', Parameter containing:\n",
            "tensor([0., 0.], device='cuda:0', requires_grad=True))\n"
          ],
          "name": "stdout"
        }
      ]
    },
    {
      "cell_type": "code",
      "metadata": {
        "id": "9alnEO5Uu7jm"
      },
      "source": [
        "learning_rate = 5e-5\n",
        "adam_epsilon=1e-8\n",
        "no_decay = ['bias', 'LayerNorm.weight']\n",
        "optimizer_grouped_parameters = [\n",
        "    {'params': [p for n, p in model.named_parameters() if not any(nd in n for nd in no_decay)], 'weight_decay': 0.01},\n",
        "    {'params': [p for n, p in model.named_parameters() if any(nd in n for nd in no_decay)], 'weight_decay': 0.0}\n",
        "    ]\n",
        "optimizer = AdamW(optimizer_grouped_parameters, lr=learning_rate, eps=adam_epsilon)"
      ],
      "execution_count": 31,
      "outputs": []
    },
    {
      "cell_type": "code",
      "metadata": {
        "id": "cOoNQXVAXN8N"
      },
      "source": [
        ""
      ],
      "execution_count": 53,
      "outputs": []
    },
    {
      "cell_type": "code",
      "metadata": {
        "id": "XGwiPd3ju9A1",
        "colab": {
          "base_uri": "https://localhost:8080/"
        },
        "outputId": "af60c90d-a238-410e-cc3c-bc60b15f1e3c"
      },
      "source": [
        "num_train_epochs = 1\n",
        "\n",
        "print(\"***** Running training *****\")\n",
        "print(\"  Num examples = %d\" % len(dataset))\n",
        "print(\"  Num Epochs = %d\" % num_train_epochs)\n",
        "print(\"  Batch size = %d\" % batch_size)\n",
        "print(\"  Total optimization steps = %d\" % (len(train_dataloader) // num_train_epochs))\n",
        "\n",
        "model.zero_grad()\n",
        "train_iterator = trange(num_train_epochs, desc=\"Epoch\")\n",
        "set_seed()\n",
        "\n",
        "for _ in train_iterator:\n",
        "    epoch_iterator = tqdm(train_dataloader, desc=\"Iteration\")\n",
        "    for step, batch in enumerate(epoch_iterator):\n",
        "      if step < global_step + 1:\n",
        "        continue\n",
        "\n",
        "      model.train()\n",
        "      batch = tuple(t.to(device) for t in batch)\n",
        "\n",
        "      inputs = {'input_ids':       batch[0],\n",
        "                'attention_mask':  batch[1], \n",
        "                'token_type_ids':  batch[2],  \n",
        "                'start_positions': batch[3], \n",
        "                'end_positions':   batch[4]}\n",
        "\n",
        "      outputs = model(**inputs)\n",
        "\n",
        "      loss = outputs[0]\n",
        "      train_loss_set.append(loss)\n",
        "      loss.backward()\n",
        "      torch.nn.utils.clip_grad_norm_(model.parameters(), 1.0)\n",
        "\n",
        "      tr_loss += loss.item()\n",
        "      optimizer.step()\n",
        "      model.zero_grad()\n",
        "      global_step += 1\n",
        "    \n",
        "      if global_step % 500 == 0:\n",
        "        print(\"Train loss: {}\".format(tr_loss/global_step))\n",
        "        output_dir = '/drive/My Drive/Medium/checkpoint-{}'.format(global_step)\n",
        "        if not os.path.exists(output_dir):\n",
        "            os.makedirs(output_dir)\n",
        "        model_to_save = model.module if hasattr(model, 'module') else model  # Take care of distributed/parallel training\n",
        "        model_to_save.save_pretrained(output_dir)\n",
        "        torch.save(torch.tensor(train_loss_set), os.path.join(output_dir, 'training_loss.pt'))\n",
        "        print(\"Saving model checkpoint to %s\" % output_dir)"
      ],
      "execution_count": 32,
      "outputs": [
        {
          "output_type": "stream",
          "text": [
            "Epoch:   0%|          | 0/1 [00:00<?, ?it/s]\n",
            "Iteration:   0%|          | 0/877 [00:00<?, ?it/s]\u001b[A"
          ],
          "name": "stderr"
        },
        {
          "output_type": "stream",
          "text": [
            "***** Running training *****\n",
            "  Num examples = 28080\n",
            "  Num Epochs = 1\n",
            "  Batch size = 32\n",
            "  Total optimization steps = 877\n"
          ],
          "name": "stdout"
        },
        {
          "output_type": "stream",
          "text": [
            "/usr/local/lib/python3.7/dist-packages/pytorch_transformers/optimization.py:166: UserWarning: This overload of add_ is deprecated:\n",
            "\tadd_(Number alpha, Tensor other)\n",
            "Consider using one of the following signatures instead:\n",
            "\tadd_(Tensor other, *, Number alpha) (Triggered internally at  /pytorch/torch/csrc/utils/python_arg_parser.cpp:1025.)\n",
            "  exp_avg.mul_(beta1).add_(1.0 - beta1, grad)\n",
            "\n",
            "Iteration:   0%|          | 2/877 [00:01<11:57,  1.22it/s]\u001b[A\n",
            "Iteration:   0%|          | 3/877 [00:03<14:39,  1.01s/it]\u001b[A\n",
            "Iteration:   0%|          | 4/877 [00:04<16:33,  1.14s/it]\u001b[A\n",
            "Iteration:   1%|          | 5/877 [00:05<17:52,  1.23s/it]\u001b[A\n",
            "Iteration:   1%|          | 6/877 [00:07<18:49,  1.30s/it]\u001b[A\n",
            "Iteration:   1%|          | 7/877 [00:08<19:26,  1.34s/it]\u001b[A\n",
            "Iteration:   1%|          | 8/877 [00:10<19:57,  1.38s/it]\u001b[A\n",
            "Iteration:   1%|          | 9/877 [00:11<20:18,  1.40s/it]\u001b[A\n",
            "Iteration:   1%|          | 10/877 [00:13<20:31,  1.42s/it]\u001b[A\n",
            "Iteration:   1%|▏         | 11/877 [00:14<20:39,  1.43s/it]\u001b[A\n",
            "Iteration:   1%|▏         | 12/877 [00:16<20:45,  1.44s/it]\u001b[A\n",
            "Iteration:   1%|▏         | 13/877 [00:17<20:47,  1.44s/it]\u001b[A\n",
            "Iteration:   2%|▏         | 14/877 [00:19<20:49,  1.45s/it]\u001b[A\n",
            "Iteration:   2%|▏         | 15/877 [00:20<20:51,  1.45s/it]\u001b[A\n",
            "Iteration:   2%|▏         | 16/877 [00:22<20:54,  1.46s/it]\u001b[A\n",
            "Iteration:   2%|▏         | 17/877 [00:23<20:54,  1.46s/it]\u001b[A\n",
            "Iteration:   2%|▏         | 18/877 [00:24<20:55,  1.46s/it]\u001b[A\n",
            "Iteration:   2%|▏         | 19/877 [00:26<20:55,  1.46s/it]\u001b[A\n",
            "Iteration:   2%|▏         | 20/877 [00:27<20:54,  1.46s/it]\u001b[A\n",
            "Iteration:   2%|▏         | 21/877 [00:29<20:54,  1.47s/it]\u001b[A\n",
            "Iteration:   3%|▎         | 22/877 [00:30<20:54,  1.47s/it]\u001b[A\n",
            "Iteration:   3%|▎         | 23/877 [00:32<20:57,  1.47s/it]\u001b[A\n",
            "Iteration:   3%|▎         | 24/877 [00:33<20:54,  1.47s/it]\u001b[A\n",
            "Iteration:   3%|▎         | 25/877 [00:35<20:56,  1.47s/it]\u001b[A\n",
            "Iteration:   3%|▎         | 26/877 [00:36<20:53,  1.47s/it]\u001b[A\n",
            "Iteration:   3%|▎         | 27/877 [00:38<20:56,  1.48s/it]\u001b[A\n",
            "Iteration:   3%|▎         | 28/877 [00:39<20:56,  1.48s/it]\u001b[A\n",
            "Iteration:   3%|▎         | 29/877 [00:41<20:58,  1.48s/it]\u001b[A\n",
            "Iteration:   3%|▎         | 30/877 [00:42<20:52,  1.48s/it]\u001b[A\n",
            "Iteration:   4%|▎         | 31/877 [00:44<20:51,  1.48s/it]\u001b[A\n",
            "Iteration:   4%|▎         | 32/877 [00:45<20:50,  1.48s/it]\u001b[A\n",
            "Iteration:   4%|▍         | 33/877 [00:47<20:50,  1.48s/it]\u001b[A\n",
            "Iteration:   4%|▍         | 34/877 [00:48<20:48,  1.48s/it]\u001b[A\n",
            "Iteration:   4%|▍         | 35/877 [00:50<20:47,  1.48s/it]\u001b[A\n",
            "Iteration:   4%|▍         | 36/877 [00:51<20:46,  1.48s/it]\u001b[A\n",
            "Iteration:   4%|▍         | 37/877 [00:53<20:46,  1.48s/it]\u001b[A\n",
            "Iteration:   4%|▍         | 38/877 [00:54<20:46,  1.49s/it]\u001b[A\n",
            "Iteration:   4%|▍         | 39/877 [00:56<20:47,  1.49s/it]\u001b[A\n",
            "Iteration:   5%|▍         | 40/877 [00:57<20:47,  1.49s/it]\u001b[A\n",
            "Iteration:   5%|▍         | 41/877 [00:59<20:48,  1.49s/it]\u001b[A\n",
            "Iteration:   5%|▍         | 42/877 [01:00<20:50,  1.50s/it]\u001b[A\n",
            "Iteration:   5%|▍         | 43/877 [01:02<20:50,  1.50s/it]\u001b[A\n",
            "Iteration:   5%|▌         | 44/877 [01:03<20:50,  1.50s/it]\u001b[A\n",
            "Iteration:   5%|▌         | 45/877 [01:05<20:48,  1.50s/it]\u001b[A\n",
            "Iteration:   5%|▌         | 46/877 [01:06<20:47,  1.50s/it]\u001b[A\n",
            "Iteration:   5%|▌         | 47/877 [01:08<20:51,  1.51s/it]\u001b[A\n",
            "Iteration:   5%|▌         | 48/877 [01:09<20:49,  1.51s/it]\u001b[A\n",
            "Iteration:   6%|▌         | 49/877 [01:11<20:51,  1.51s/it]\u001b[A\n",
            "Iteration:   6%|▌         | 50/877 [01:12<20:54,  1.52s/it]\u001b[A\n",
            "Iteration:   6%|▌         | 51/877 [01:14<20:53,  1.52s/it]\u001b[A\n",
            "Iteration:   6%|▌         | 52/877 [01:15<20:54,  1.52s/it]\u001b[A\n",
            "Iteration:   6%|▌         | 53/877 [01:17<20:53,  1.52s/it]\u001b[A\n",
            "Iteration:   6%|▌         | 54/877 [01:18<20:55,  1.53s/it]\u001b[A\n",
            "Iteration:   6%|▋         | 55/877 [01:20<20:52,  1.52s/it]\u001b[A\n",
            "Iteration:   6%|▋         | 56/877 [01:21<20:53,  1.53s/it]\u001b[A\n",
            "Iteration:   6%|▋         | 57/877 [01:23<20:53,  1.53s/it]\u001b[A\n",
            "Iteration:   7%|▋         | 58/877 [01:24<20:55,  1.53s/it]\u001b[A\n",
            "Iteration:   7%|▋         | 59/877 [01:26<20:57,  1.54s/it]\u001b[A\n",
            "Iteration:   7%|▋         | 60/877 [01:27<20:57,  1.54s/it]\u001b[A\n",
            "Iteration:   7%|▋         | 61/877 [01:29<20:57,  1.54s/it]\u001b[A\n",
            "Iteration:   7%|▋         | 62/877 [01:31<20:57,  1.54s/it]\u001b[A\n",
            "Iteration:   7%|▋         | 63/877 [01:32<20:56,  1.54s/it]\u001b[A\n",
            "Iteration:   7%|▋         | 64/877 [01:34<20:55,  1.54s/it]\u001b[A\n",
            "Iteration:   7%|▋         | 65/877 [01:35<20:55,  1.55s/it]\u001b[A\n",
            "Iteration:   8%|▊         | 66/877 [01:37<20:52,  1.54s/it]\u001b[A\n",
            "Iteration:   8%|▊         | 67/877 [01:38<20:51,  1.55s/it]\u001b[A\n",
            "Iteration:   8%|▊         | 68/877 [01:40<20:50,  1.55s/it]\u001b[A\n",
            "Iteration:   8%|▊         | 69/877 [01:41<20:49,  1.55s/it]\u001b[A\n",
            "Iteration:   8%|▊         | 70/877 [01:43<20:48,  1.55s/it]\u001b[A\n",
            "Iteration:   8%|▊         | 71/877 [01:44<20:46,  1.55s/it]\u001b[A\n",
            "Iteration:   8%|▊         | 72/877 [01:46<20:44,  1.55s/it]\u001b[A\n",
            "Iteration:   8%|▊         | 73/877 [01:48<20:41,  1.54s/it]\u001b[A\n",
            "Iteration:   8%|▊         | 74/877 [01:49<20:39,  1.54s/it]\u001b[A\n",
            "Iteration:   9%|▊         | 75/877 [01:51<20:37,  1.54s/it]\u001b[A\n",
            "Iteration:   9%|▊         | 76/877 [01:52<20:37,  1.55s/it]\u001b[A\n",
            "Iteration:   9%|▉         | 77/877 [01:54<20:38,  1.55s/it]\u001b[A\n",
            "Iteration:   9%|▉         | 78/877 [01:55<20:45,  1.56s/it]\u001b[A\n",
            "Iteration:   9%|▉         | 79/877 [01:57<20:45,  1.56s/it]\u001b[A\n",
            "Iteration:   9%|▉         | 80/877 [01:58<20:44,  1.56s/it]\u001b[A\n",
            "Iteration:   9%|▉         | 81/877 [02:00<20:45,  1.56s/it]\u001b[A\n",
            "Iteration:   9%|▉         | 82/877 [02:02<20:46,  1.57s/it]\u001b[A\n",
            "Iteration:   9%|▉         | 83/877 [02:03<20:45,  1.57s/it]\u001b[A\n",
            "Iteration:  10%|▉         | 84/877 [02:05<20:42,  1.57s/it]\u001b[A\n",
            "Iteration:  10%|▉         | 85/877 [02:06<20:40,  1.57s/it]\u001b[A\n",
            "Iteration:  10%|▉         | 86/877 [02:08<20:41,  1.57s/it]\u001b[A\n",
            "Iteration:  10%|▉         | 87/877 [02:09<20:38,  1.57s/it]\u001b[A\n",
            "Iteration:  10%|█         | 88/877 [02:11<20:37,  1.57s/it]\u001b[A\n",
            "Iteration:  10%|█         | 89/877 [02:13<20:38,  1.57s/it]\u001b[A\n",
            "Iteration:  10%|█         | 90/877 [02:14<20:40,  1.58s/it]\u001b[A\n",
            "Iteration:  10%|█         | 91/877 [02:16<20:37,  1.57s/it]\u001b[A\n",
            "Iteration:  10%|█         | 92/877 [02:17<20:38,  1.58s/it]\u001b[A\n",
            "Iteration:  11%|█         | 93/877 [02:19<20:37,  1.58s/it]\u001b[A\n",
            "Iteration:  11%|█         | 94/877 [02:20<20:36,  1.58s/it]\u001b[A\n",
            "Iteration:  11%|█         | 95/877 [02:22<20:36,  1.58s/it]\u001b[A\n",
            "Iteration:  11%|█         | 96/877 [02:24<20:30,  1.58s/it]\u001b[A\n",
            "Iteration:  11%|█         | 97/877 [02:25<20:26,  1.57s/it]\u001b[A\n",
            "Iteration:  11%|█         | 98/877 [02:27<20:20,  1.57s/it]\u001b[A\n",
            "Iteration:  11%|█▏        | 99/877 [02:28<20:18,  1.57s/it]\u001b[A\n",
            "Iteration:  11%|█▏        | 100/877 [02:30<20:17,  1.57s/it]\u001b[A\n",
            "Iteration:  12%|█▏        | 101/877 [02:31<20:14,  1.57s/it]\u001b[A\n",
            "Iteration:  12%|█▏        | 102/877 [02:33<20:12,  1.56s/it]\u001b[A\n",
            "Iteration:  12%|█▏        | 103/877 [02:35<20:10,  1.56s/it]\u001b[A\n",
            "Iteration:  12%|█▏        | 104/877 [02:36<20:09,  1.57s/it]\u001b[A\n",
            "Iteration:  12%|█▏        | 105/877 [02:38<20:12,  1.57s/it]\u001b[A\n",
            "Iteration:  12%|█▏        | 106/877 [02:39<20:10,  1.57s/it]\u001b[A\n",
            "Iteration:  12%|█▏        | 107/877 [02:41<20:11,  1.57s/it]\u001b[A\n",
            "Iteration:  12%|█▏        | 108/877 [02:42<20:09,  1.57s/it]\u001b[A\n",
            "Iteration:  12%|█▏        | 109/877 [02:44<20:08,  1.57s/it]\u001b[A\n",
            "Iteration:  13%|█▎        | 110/877 [02:46<20:05,  1.57s/it]\u001b[A\n",
            "Iteration:  13%|█▎        | 111/877 [02:47<20:02,  1.57s/it]\u001b[A\n",
            "Iteration:  13%|█▎        | 112/877 [02:49<20:00,  1.57s/it]\u001b[A\n",
            "Iteration:  13%|█▎        | 113/877 [02:50<20:01,  1.57s/it]\u001b[A\n",
            "Iteration:  13%|█▎        | 114/877 [02:52<20:00,  1.57s/it]\u001b[A\n",
            "Iteration:  13%|█▎        | 115/877 [02:53<20:01,  1.58s/it]\u001b[A\n",
            "Iteration:  13%|█▎        | 116/877 [02:55<20:00,  1.58s/it]\u001b[A\n",
            "Iteration:  13%|█▎        | 117/877 [02:57<20:02,  1.58s/it]\u001b[A\n",
            "Iteration:  13%|█▎        | 118/877 [02:58<20:01,  1.58s/it]\u001b[A\n",
            "Iteration:  14%|█▎        | 119/877 [03:00<19:58,  1.58s/it]\u001b[A\n",
            "Iteration:  14%|█▎        | 120/877 [03:01<19:58,  1.58s/it]\u001b[A\n",
            "Iteration:  14%|█▍        | 121/877 [03:03<19:56,  1.58s/it]\u001b[A\n",
            "Iteration:  14%|█▍        | 122/877 [03:05<19:55,  1.58s/it]\u001b[A\n",
            "Iteration:  14%|█▍        | 123/877 [03:06<19:53,  1.58s/it]\u001b[A\n",
            "Iteration:  14%|█▍        | 124/877 [03:08<19:53,  1.58s/it]\u001b[A\n",
            "Iteration:  14%|█▍        | 125/877 [03:09<19:51,  1.58s/it]\u001b[A\n",
            "Iteration:  14%|█▍        | 126/877 [03:11<19:50,  1.59s/it]\u001b[A\n",
            "Iteration:  14%|█▍        | 127/877 [03:12<19:48,  1.58s/it]\u001b[A\n",
            "Iteration:  15%|█▍        | 128/877 [03:14<19:47,  1.59s/it]\u001b[A\n",
            "Iteration:  15%|█▍        | 129/877 [03:16<19:45,  1.59s/it]\u001b[A\n",
            "Iteration:  15%|█▍        | 130/877 [03:17<19:48,  1.59s/it]\u001b[A\n",
            "Iteration:  15%|█▍        | 131/877 [03:19<19:46,  1.59s/it]\u001b[A\n",
            "Iteration:  15%|█▌        | 132/877 [03:20<19:47,  1.59s/it]\u001b[A\n",
            "Iteration:  15%|█▌        | 133/877 [03:22<19:44,  1.59s/it]\u001b[A\n",
            "Iteration:  15%|█▌        | 134/877 [03:24<19:45,  1.59s/it]\u001b[A\n",
            "Iteration:  15%|█▌        | 135/877 [03:25<19:46,  1.60s/it]\u001b[A\n",
            "Iteration:  16%|█▌        | 136/877 [03:27<19:45,  1.60s/it]\u001b[A\n",
            "Iteration:  16%|█▌        | 137/877 [03:28<19:44,  1.60s/it]\u001b[A\n",
            "Iteration:  16%|█▌        | 138/877 [03:30<19:40,  1.60s/it]\u001b[A\n",
            "Iteration:  16%|█▌        | 139/877 [03:32<19:39,  1.60s/it]\u001b[A\n",
            "Iteration:  16%|█▌        | 140/877 [03:33<19:39,  1.60s/it]\u001b[A\n",
            "Iteration:  16%|█▌        | 141/877 [03:35<19:39,  1.60s/it]\u001b[A\n",
            "Iteration:  16%|█▌        | 142/877 [03:36<19:38,  1.60s/it]\u001b[A\n",
            "Iteration:  16%|█▋        | 143/877 [03:38<19:36,  1.60s/it]\u001b[A\n",
            "Iteration:  16%|█▋        | 144/877 [03:40<19:36,  1.60s/it]\u001b[A\n",
            "Iteration:  17%|█▋        | 145/877 [03:41<19:33,  1.60s/it]\u001b[A\n",
            "Iteration:  17%|█▋        | 146/877 [03:43<19:32,  1.60s/it]\u001b[A\n",
            "Iteration:  17%|█▋        | 147/877 [03:44<19:31,  1.60s/it]\u001b[A\n",
            "Iteration:  17%|█▋        | 148/877 [03:46<19:30,  1.61s/it]\u001b[A\n",
            "Iteration:  17%|█▋        | 149/877 [03:48<19:29,  1.61s/it]\u001b[A\n",
            "Iteration:  17%|█▋        | 150/877 [03:49<19:27,  1.61s/it]\u001b[A\n",
            "Iteration:  17%|█▋        | 151/877 [03:51<19:26,  1.61s/it]\u001b[A\n",
            "Iteration:  17%|█▋        | 152/877 [03:53<19:25,  1.61s/it]\u001b[A\n",
            "Iteration:  17%|█▋        | 153/877 [03:54<19:24,  1.61s/it]\u001b[A\n",
            "Iteration:  18%|█▊        | 154/877 [03:56<19:23,  1.61s/it]\u001b[A\n",
            "Iteration:  18%|█▊        | 155/877 [03:57<19:21,  1.61s/it]\u001b[A\n",
            "Iteration:  18%|█▊        | 156/877 [03:59<19:19,  1.61s/it]\u001b[A\n",
            "Iteration:  18%|█▊        | 157/877 [04:01<19:17,  1.61s/it]\u001b[A\n",
            "Iteration:  18%|█▊        | 158/877 [04:02<19:15,  1.61s/it]\u001b[A\n",
            "Iteration:  18%|█▊        | 159/877 [04:04<19:16,  1.61s/it]\u001b[A\n",
            "Iteration:  18%|█▊        | 160/877 [04:05<19:14,  1.61s/it]\u001b[A\n",
            "Iteration:  18%|█▊        | 161/877 [04:07<19:13,  1.61s/it]\u001b[A\n",
            "Iteration:  18%|█▊        | 162/877 [04:09<19:13,  1.61s/it]\u001b[A\n",
            "Iteration:  19%|█▊        | 163/877 [04:10<19:12,  1.61s/it]\u001b[A\n",
            "Iteration:  19%|█▊        | 164/877 [04:12<19:06,  1.61s/it]\u001b[A\n",
            "Iteration:  19%|█▉        | 165/877 [04:13<19:06,  1.61s/it]\u001b[A\n",
            "Iteration:  19%|█▉        | 166/877 [04:15<19:02,  1.61s/it]\u001b[A\n",
            "Iteration:  19%|█▉        | 167/877 [04:17<19:03,  1.61s/it]\u001b[A\n",
            "Iteration:  19%|█▉        | 168/877 [04:18<19:03,  1.61s/it]\u001b[A\n",
            "Iteration:  19%|█▉        | 169/877 [04:20<18:59,  1.61s/it]\u001b[A\n",
            "Iteration:  19%|█▉        | 170/877 [04:21<18:58,  1.61s/it]\u001b[A\n",
            "Iteration:  19%|█▉        | 171/877 [04:23<18:57,  1.61s/it]\u001b[A\n",
            "Iteration:  20%|█▉        | 172/877 [04:25<18:59,  1.62s/it]\u001b[A\n",
            "Iteration:  20%|█▉        | 173/877 [04:26<18:59,  1.62s/it]\u001b[A\n",
            "Iteration:  20%|█▉        | 174/877 [04:28<19:01,  1.62s/it]\u001b[A\n",
            "Iteration:  20%|█▉        | 175/877 [04:30<18:58,  1.62s/it]\u001b[A\n",
            "Iteration:  20%|██        | 176/877 [04:31<18:57,  1.62s/it]\u001b[A\n",
            "Iteration:  20%|██        | 177/877 [04:33<18:57,  1.62s/it]\u001b[A\n",
            "Iteration:  20%|██        | 178/877 [04:34<18:56,  1.63s/it]\u001b[A\n",
            "Iteration:  20%|██        | 179/877 [04:36<18:52,  1.62s/it]\u001b[A\n",
            "Iteration:  21%|██        | 180/877 [04:38<18:53,  1.63s/it]\u001b[A\n",
            "Iteration:  21%|██        | 181/877 [04:39<18:57,  1.63s/it]\u001b[A\n",
            "Iteration:  21%|██        | 182/877 [04:41<18:55,  1.63s/it]\u001b[A\n",
            "Iteration:  21%|██        | 183/877 [04:43<18:51,  1.63s/it]\u001b[A\n",
            "Iteration:  21%|██        | 184/877 [04:44<18:49,  1.63s/it]\u001b[A\n",
            "Iteration:  21%|██        | 185/877 [04:46<18:47,  1.63s/it]\u001b[A\n",
            "Iteration:  21%|██        | 186/877 [04:48<18:47,  1.63s/it]\u001b[A\n",
            "Iteration:  21%|██▏       | 187/877 [04:49<18:44,  1.63s/it]\u001b[A\n",
            "Iteration:  21%|██▏       | 188/877 [04:51<18:43,  1.63s/it]\u001b[A\n",
            "Iteration:  22%|██▏       | 189/877 [04:52<18:43,  1.63s/it]\u001b[A\n",
            "Iteration:  22%|██▏       | 190/877 [04:54<18:41,  1.63s/it]\u001b[A\n",
            "Iteration:  22%|██▏       | 191/877 [04:56<18:38,  1.63s/it]\u001b[A\n",
            "Iteration:  22%|██▏       | 192/877 [04:57<18:38,  1.63s/it]\u001b[A\n",
            "Iteration:  22%|██▏       | 193/877 [04:59<18:37,  1.63s/it]\u001b[A\n",
            "Iteration:  22%|██▏       | 194/877 [05:01<18:34,  1.63s/it]\u001b[A\n",
            "Iteration:  22%|██▏       | 195/877 [05:02<18:33,  1.63s/it]\u001b[A\n",
            "Iteration:  22%|██▏       | 196/877 [05:04<18:31,  1.63s/it]\u001b[A\n",
            "Iteration:  22%|██▏       | 197/877 [05:05<18:29,  1.63s/it]\u001b[A\n",
            "Iteration:  23%|██▎       | 198/877 [05:07<18:28,  1.63s/it]\u001b[A\n",
            "Iteration:  23%|██▎       | 199/877 [05:09<18:25,  1.63s/it]\u001b[A\n",
            "Iteration:  23%|██▎       | 200/877 [05:10<18:23,  1.63s/it]\u001b[A\n",
            "Iteration:  23%|██▎       | 201/877 [05:12<18:21,  1.63s/it]\u001b[A\n",
            "Iteration:  23%|██▎       | 202/877 [05:14<18:20,  1.63s/it]\u001b[A\n",
            "Iteration:  23%|██▎       | 203/877 [05:15<18:20,  1.63s/it]\u001b[A\n",
            "Iteration:  23%|██▎       | 204/877 [05:17<18:18,  1.63s/it]\u001b[A\n",
            "Iteration:  23%|██▎       | 205/877 [05:19<18:18,  1.63s/it]\u001b[A\n",
            "Iteration:  23%|██▎       | 206/877 [05:20<18:15,  1.63s/it]\u001b[A\n",
            "Iteration:  24%|██▎       | 207/877 [05:22<18:16,  1.64s/it]\u001b[A\n",
            "Iteration:  24%|██▎       | 208/877 [05:23<18:15,  1.64s/it]\u001b[A\n",
            "Iteration:  24%|██▍       | 209/877 [05:25<18:13,  1.64s/it]\u001b[A\n",
            "Iteration:  24%|██▍       | 210/877 [05:27<18:12,  1.64s/it]\u001b[A\n",
            "Iteration:  24%|██▍       | 211/877 [05:28<18:10,  1.64s/it]\u001b[A\n",
            "Iteration:  24%|██▍       | 212/877 [05:30<18:10,  1.64s/it]\u001b[A\n",
            "Iteration:  24%|██▍       | 213/877 [05:32<18:08,  1.64s/it]\u001b[A\n",
            "Iteration:  24%|██▍       | 214/877 [05:33<18:07,  1.64s/it]\u001b[A\n",
            "Iteration:  25%|██▍       | 215/877 [05:35<18:04,  1.64s/it]\u001b[A\n",
            "Iteration:  25%|██▍       | 216/877 [05:37<18:03,  1.64s/it]\u001b[A\n",
            "Iteration:  25%|██▍       | 217/877 [05:38<18:02,  1.64s/it]\u001b[A\n",
            "Iteration:  25%|██▍       | 218/877 [05:40<18:02,  1.64s/it]\u001b[A\n",
            "Iteration:  25%|██▍       | 219/877 [05:42<18:00,  1.64s/it]\u001b[A\n",
            "Iteration:  25%|██▌       | 220/877 [05:43<18:01,  1.65s/it]\u001b[A\n",
            "Iteration:  25%|██▌       | 221/877 [05:45<17:59,  1.65s/it]\u001b[A\n",
            "Iteration:  25%|██▌       | 222/877 [05:46<17:58,  1.65s/it]\u001b[A\n",
            "Iteration:  25%|██▌       | 223/877 [05:48<17:55,  1.64s/it]\u001b[A\n",
            "Iteration:  26%|██▌       | 224/877 [05:50<17:53,  1.64s/it]\u001b[A\n",
            "Iteration:  26%|██▌       | 225/877 [05:51<17:50,  1.64s/it]\u001b[A\n",
            "Iteration:  26%|██▌       | 226/877 [05:53<17:50,  1.64s/it]\u001b[A\n",
            "Iteration:  26%|██▌       | 227/877 [05:55<17:50,  1.65s/it]\u001b[A\n",
            "Iteration:  26%|██▌       | 228/877 [05:56<17:49,  1.65s/it]\u001b[A\n",
            "Iteration:  26%|██▌       | 229/877 [05:58<17:47,  1.65s/it]\u001b[A\n",
            "Iteration:  26%|██▌       | 230/877 [06:00<17:43,  1.64s/it]\u001b[A\n",
            "Iteration:  26%|██▋       | 231/877 [06:01<17:43,  1.65s/it]\u001b[A\n",
            "Iteration:  26%|██▋       | 232/877 [06:03<17:42,  1.65s/it]\u001b[A\n",
            "Iteration:  27%|██▋       | 233/877 [06:05<17:39,  1.65s/it]\u001b[A\n",
            "Iteration:  27%|██▋       | 234/877 [06:06<17:37,  1.64s/it]\u001b[A\n",
            "Iteration:  27%|██▋       | 235/877 [06:08<17:35,  1.64s/it]\u001b[A\n",
            "Iteration:  27%|██▋       | 236/877 [06:09<17:34,  1.64s/it]\u001b[A\n",
            "Iteration:  27%|██▋       | 237/877 [06:11<17:32,  1.64s/it]\u001b[A\n",
            "Iteration:  27%|██▋       | 238/877 [06:13<17:31,  1.65s/it]\u001b[A\n",
            "Iteration:  27%|██▋       | 239/877 [06:14<17:30,  1.65s/it]\u001b[A\n",
            "Iteration:  27%|██▋       | 240/877 [06:16<17:29,  1.65s/it]\u001b[A\n",
            "Iteration:  27%|██▋       | 241/877 [06:18<17:27,  1.65s/it]\u001b[A\n",
            "Iteration:  28%|██▊       | 242/877 [06:19<17:25,  1.65s/it]\u001b[A\n",
            "Iteration:  28%|██▊       | 243/877 [06:21<17:24,  1.65s/it]\u001b[A\n",
            "Iteration:  28%|██▊       | 244/877 [06:23<17:24,  1.65s/it]\u001b[A\n",
            "Iteration:  28%|██▊       | 245/877 [06:24<17:22,  1.65s/it]\u001b[A\n",
            "Iteration:  28%|██▊       | 246/877 [06:26<17:20,  1.65s/it]\u001b[A\n",
            "Iteration:  28%|██▊       | 247/877 [06:28<17:18,  1.65s/it]\u001b[A\n",
            "Iteration:  28%|██▊       | 248/877 [06:29<17:17,  1.65s/it]\u001b[A\n",
            "Iteration:  28%|██▊       | 249/877 [06:31<17:15,  1.65s/it]\u001b[A\n",
            "Iteration:  29%|██▊       | 250/877 [06:33<17:12,  1.65s/it]\u001b[A\n",
            "Iteration:  29%|██▊       | 251/877 [06:34<17:13,  1.65s/it]\u001b[A\n",
            "Iteration:  29%|██▊       | 252/877 [06:36<17:13,  1.65s/it]\u001b[A\n",
            "Iteration:  29%|██▉       | 253/877 [06:38<17:11,  1.65s/it]\u001b[A\n",
            "Iteration:  29%|██▉       | 254/877 [06:39<17:09,  1.65s/it]\u001b[A\n",
            "Iteration:  29%|██▉       | 255/877 [06:41<17:08,  1.65s/it]\u001b[A\n",
            "Iteration:  29%|██▉       | 256/877 [06:42<17:05,  1.65s/it]\u001b[A\n",
            "Iteration:  29%|██▉       | 257/877 [06:44<17:04,  1.65s/it]\u001b[A\n",
            "Iteration:  29%|██▉       | 258/877 [06:46<17:03,  1.65s/it]\u001b[A\n",
            "Iteration:  30%|██▉       | 259/877 [06:47<17:02,  1.65s/it]\u001b[A\n",
            "Iteration:  30%|██▉       | 260/877 [06:49<16:59,  1.65s/it]\u001b[A\n",
            "Iteration:  30%|██▉       | 261/877 [06:51<16:57,  1.65s/it]\u001b[A\n",
            "Iteration:  30%|██▉       | 262/877 [06:52<16:56,  1.65s/it]\u001b[A\n",
            "Iteration:  30%|██▉       | 263/877 [06:54<16:55,  1.65s/it]\u001b[A\n",
            "Iteration:  30%|███       | 264/877 [06:56<16:53,  1.65s/it]\u001b[A\n",
            "Iteration:  30%|███       | 265/877 [06:57<16:52,  1.65s/it]\u001b[A\n",
            "Iteration:  30%|███       | 266/877 [06:59<16:49,  1.65s/it]\u001b[A\n",
            "Iteration:  30%|███       | 267/877 [07:01<16:46,  1.65s/it]\u001b[A\n",
            "Iteration:  31%|███       | 268/877 [07:02<16:43,  1.65s/it]\u001b[A\n",
            "Iteration:  31%|███       | 269/877 [07:04<16:41,  1.65s/it]\u001b[A\n",
            "Iteration:  31%|███       | 270/877 [07:06<16:39,  1.65s/it]\u001b[A\n",
            "Iteration:  31%|███       | 271/877 [07:07<16:37,  1.65s/it]\u001b[A\n",
            "Iteration:  31%|███       | 272/877 [07:09<16:35,  1.65s/it]\u001b[A\n",
            "Iteration:  31%|███       | 273/877 [07:11<16:33,  1.65s/it]\u001b[A\n",
            "Iteration:  31%|███       | 274/877 [07:12<16:30,  1.64s/it]\u001b[A\n",
            "Iteration:  31%|███▏      | 275/877 [07:14<16:29,  1.64s/it]\u001b[A\n",
            "Iteration:  31%|███▏      | 276/877 [07:15<16:28,  1.64s/it]\u001b[A\n",
            "Iteration:  32%|███▏      | 277/877 [07:17<16:27,  1.65s/it]\u001b[A\n",
            "Iteration:  32%|███▏      | 278/877 [07:19<16:22,  1.64s/it]\u001b[A\n",
            "Iteration:  32%|███▏      | 279/877 [07:20<16:19,  1.64s/it]\u001b[A\n",
            "Iteration:  32%|███▏      | 280/877 [07:22<16:17,  1.64s/it]\u001b[A\n",
            "Iteration:  32%|███▏      | 281/877 [07:24<16:17,  1.64s/it]\u001b[A\n",
            "Iteration:  32%|███▏      | 282/877 [07:25<16:15,  1.64s/it]\u001b[A\n",
            "Iteration:  32%|███▏      | 283/877 [07:27<16:14,  1.64s/it]\u001b[A\n",
            "Iteration:  32%|███▏      | 284/877 [07:29<16:13,  1.64s/it]\u001b[A\n",
            "Iteration:  32%|███▏      | 285/877 [07:30<16:11,  1.64s/it]\u001b[A\n",
            "Iteration:  33%|███▎      | 286/877 [07:32<16:10,  1.64s/it]\u001b[A\n",
            "Iteration:  33%|███▎      | 287/877 [07:34<16:08,  1.64s/it]\u001b[A\n",
            "Iteration:  33%|███▎      | 288/877 [07:35<16:07,  1.64s/it]\u001b[A\n",
            "Iteration:  33%|███▎      | 289/877 [07:37<16:06,  1.64s/it]\u001b[A\n",
            "Iteration:  33%|███▎      | 290/877 [07:38<16:04,  1.64s/it]\u001b[A\n",
            "Iteration:  33%|███▎      | 291/877 [07:40<16:04,  1.65s/it]\u001b[A\n",
            "Iteration:  33%|███▎      | 292/877 [07:42<16:04,  1.65s/it]\u001b[A\n",
            "Iteration:  33%|███▎      | 293/877 [07:43<16:03,  1.65s/it]\u001b[A\n",
            "Iteration:  34%|███▎      | 294/877 [07:45<16:03,  1.65s/it]\u001b[A\n",
            "Iteration:  34%|███▎      | 295/877 [07:47<16:02,  1.65s/it]\u001b[A\n",
            "Iteration:  34%|███▍      | 296/877 [07:48<16:01,  1.66s/it]\u001b[A\n",
            "Iteration:  34%|███▍      | 297/877 [07:50<16:01,  1.66s/it]\u001b[A\n",
            "Iteration:  34%|███▍      | 298/877 [07:52<16:00,  1.66s/it]\u001b[A\n",
            "Iteration:  34%|███▍      | 299/877 [07:53<15:59,  1.66s/it]\u001b[A\n",
            "Iteration:  34%|███▍      | 300/877 [07:55<15:58,  1.66s/it]\u001b[A\n",
            "Iteration:  34%|███▍      | 301/877 [07:57<15:57,  1.66s/it]\u001b[A\n",
            "Iteration:  34%|███▍      | 302/877 [07:58<15:57,  1.67s/it]\u001b[A\n",
            "Iteration:  35%|███▍      | 303/877 [08:00<15:56,  1.67s/it]\u001b[A\n",
            "Iteration:  35%|███▍      | 304/877 [08:02<15:53,  1.66s/it]\u001b[A\n",
            "Iteration:  35%|███▍      | 305/877 [08:03<15:50,  1.66s/it]\u001b[A\n",
            "Iteration:  35%|███▍      | 306/877 [08:05<15:48,  1.66s/it]\u001b[A\n",
            "Iteration:  35%|███▌      | 307/877 [08:07<15:47,  1.66s/it]\u001b[A\n",
            "Iteration:  35%|███▌      | 308/877 [08:08<15:45,  1.66s/it]\u001b[A\n",
            "Iteration:  35%|███▌      | 309/877 [08:10<15:44,  1.66s/it]\u001b[A\n",
            "Iteration:  35%|███▌      | 310/877 [08:12<15:42,  1.66s/it]\u001b[A\n",
            "Iteration:  35%|███▌      | 311/877 [08:13<15:39,  1.66s/it]\u001b[A\n",
            "Iteration:  36%|███▌      | 312/877 [08:15<15:36,  1.66s/it]\u001b[A\n",
            "Iteration:  36%|███▌      | 313/877 [08:17<15:34,  1.66s/it]\u001b[A\n",
            "Iteration:  36%|███▌      | 314/877 [08:18<15:32,  1.66s/it]\u001b[A\n",
            "Iteration:  36%|███▌      | 315/877 [08:20<15:29,  1.65s/it]\u001b[A\n",
            "Iteration:  36%|███▌      | 316/877 [08:22<15:28,  1.65s/it]\u001b[A\n",
            "Iteration:  36%|███▌      | 317/877 [08:23<15:25,  1.65s/it]\u001b[A\n",
            "Iteration:  36%|███▋      | 318/877 [08:25<15:23,  1.65s/it]\u001b[A\n",
            "Iteration:  36%|███▋      | 319/877 [08:27<15:20,  1.65s/it]\u001b[A\n",
            "Iteration:  36%|███▋      | 320/877 [08:28<15:20,  1.65s/it]\u001b[A\n",
            "Iteration:  37%|███▋      | 321/877 [08:30<15:17,  1.65s/it]\u001b[A\n",
            "Iteration:  37%|███▋      | 322/877 [08:31<15:15,  1.65s/it]\u001b[A\n",
            "Iteration:  37%|███▋      | 323/877 [08:33<15:13,  1.65s/it]\u001b[A\n",
            "Iteration:  37%|███▋      | 324/877 [08:35<15:10,  1.65s/it]\u001b[A\n",
            "Iteration:  37%|███▋      | 325/877 [08:36<15:08,  1.65s/it]\u001b[A\n",
            "Iteration:  37%|███▋      | 326/877 [08:38<15:07,  1.65s/it]\u001b[A\n",
            "Iteration:  37%|███▋      | 327/877 [08:40<15:04,  1.64s/it]\u001b[A\n",
            "Iteration:  37%|███▋      | 328/877 [08:41<15:04,  1.65s/it]\u001b[A\n",
            "Iteration:  38%|███▊      | 329/877 [08:43<15:03,  1.65s/it]\u001b[A\n",
            "Iteration:  38%|███▊      | 330/877 [08:45<15:01,  1.65s/it]\u001b[A\n",
            "Iteration:  38%|███▊      | 331/877 [08:46<14:59,  1.65s/it]\u001b[A\n",
            "Iteration:  38%|███▊      | 332/877 [08:48<14:57,  1.65s/it]\u001b[A\n",
            "Iteration:  38%|███▊      | 333/877 [08:50<14:55,  1.65s/it]\u001b[A\n",
            "Iteration:  38%|███▊      | 334/877 [08:51<14:53,  1.65s/it]\u001b[A\n",
            "Iteration:  38%|███▊      | 335/877 [08:53<14:52,  1.65s/it]\u001b[A\n",
            "Iteration:  38%|███▊      | 336/877 [08:55<14:50,  1.65s/it]\u001b[A\n",
            "Iteration:  38%|███▊      | 337/877 [08:56<14:49,  1.65s/it]\u001b[A\n",
            "Iteration:  39%|███▊      | 338/877 [08:58<14:46,  1.65s/it]\u001b[A\n",
            "Iteration:  39%|███▊      | 339/877 [08:59<14:45,  1.65s/it]\u001b[A\n",
            "Iteration:  39%|███▉      | 340/877 [09:01<14:43,  1.65s/it]\u001b[A\n",
            "Iteration:  39%|███▉      | 341/877 [09:03<14:42,  1.65s/it]\u001b[A\n",
            "Iteration:  39%|███▉      | 342/877 [09:04<14:40,  1.65s/it]\u001b[A\n",
            "Iteration:  39%|███▉      | 343/877 [09:06<14:39,  1.65s/it]\u001b[A\n",
            "Iteration:  39%|███▉      | 344/877 [09:08<14:39,  1.65s/it]\u001b[A\n",
            "Iteration:  39%|███▉      | 345/877 [09:09<14:37,  1.65s/it]\u001b[A\n",
            "Iteration:  39%|███▉      | 346/877 [09:11<14:36,  1.65s/it]\u001b[A\n",
            "Iteration:  40%|███▉      | 347/877 [09:13<14:34,  1.65s/it]\u001b[A\n",
            "Iteration:  40%|███▉      | 348/877 [09:14<14:32,  1.65s/it]\u001b[A\n",
            "Iteration:  40%|███▉      | 349/877 [09:16<14:31,  1.65s/it]\u001b[A\n",
            "Iteration:  40%|███▉      | 350/877 [09:18<14:29,  1.65s/it]\u001b[A\n",
            "Iteration:  40%|████      | 351/877 [09:19<14:28,  1.65s/it]\u001b[A\n",
            "Iteration:  40%|████      | 352/877 [09:21<14:27,  1.65s/it]\u001b[A\n",
            "Iteration:  40%|████      | 353/877 [09:23<14:25,  1.65s/it]\u001b[A\n",
            "Iteration:  40%|████      | 354/877 [09:24<14:23,  1.65s/it]\u001b[A\n",
            "Iteration:  40%|████      | 355/877 [09:26<14:21,  1.65s/it]\u001b[A\n",
            "Iteration:  41%|████      | 356/877 [09:28<14:19,  1.65s/it]\u001b[A\n",
            "Iteration:  41%|████      | 357/877 [09:29<14:19,  1.65s/it]\u001b[A\n",
            "Iteration:  41%|████      | 358/877 [09:31<14:17,  1.65s/it]\u001b[A\n",
            "Iteration:  41%|████      | 359/877 [09:32<14:15,  1.65s/it]\u001b[A\n",
            "Iteration:  41%|████      | 360/877 [09:34<14:14,  1.65s/it]\u001b[A\n",
            "Iteration:  41%|████      | 361/877 [09:36<14:13,  1.65s/it]\u001b[A\n",
            "Iteration:  41%|████▏     | 362/877 [09:37<14:11,  1.65s/it]\u001b[A\n",
            "Iteration:  41%|████▏     | 363/877 [09:39<14:11,  1.66s/it]\u001b[A\n",
            "Iteration:  42%|████▏     | 364/877 [09:41<14:09,  1.66s/it]\u001b[A\n",
            "Iteration:  42%|████▏     | 365/877 [09:42<14:07,  1.66s/it]\u001b[A\n",
            "Iteration:  42%|████▏     | 366/877 [09:44<14:05,  1.66s/it]\u001b[A\n",
            "Iteration:  42%|████▏     | 367/877 [09:46<14:03,  1.65s/it]\u001b[A\n",
            "Iteration:  42%|████▏     | 368/877 [09:47<14:01,  1.65s/it]\u001b[A\n",
            "Iteration:  42%|████▏     | 369/877 [09:49<14:00,  1.65s/it]\u001b[A\n",
            "Iteration:  42%|████▏     | 370/877 [09:51<13:59,  1.66s/it]\u001b[A\n",
            "Iteration:  42%|████▏     | 371/877 [09:52<13:57,  1.66s/it]\u001b[A\n",
            "Iteration:  42%|████▏     | 372/877 [09:54<13:55,  1.65s/it]\u001b[A\n",
            "Iteration:  43%|████▎     | 373/877 [09:56<13:53,  1.65s/it]\u001b[A\n",
            "Iteration:  43%|████▎     | 374/877 [09:57<13:53,  1.66s/it]\u001b[A\n",
            "Iteration:  43%|████▎     | 375/877 [09:59<13:52,  1.66s/it]\u001b[A\n",
            "Iteration:  43%|████▎     | 376/877 [10:01<13:50,  1.66s/it]\u001b[A\n",
            "Iteration:  43%|████▎     | 377/877 [10:02<13:48,  1.66s/it]\u001b[A\n",
            "Iteration:  43%|████▎     | 378/877 [10:04<13:46,  1.66s/it]\u001b[A\n",
            "Iteration:  43%|████▎     | 379/877 [10:06<13:43,  1.65s/it]\u001b[A\n",
            "Iteration:  43%|████▎     | 380/877 [10:07<13:42,  1.66s/it]\u001b[A\n",
            "Iteration:  43%|████▎     | 381/877 [10:09<13:40,  1.65s/it]\u001b[A\n",
            "Iteration:  44%|████▎     | 382/877 [10:11<13:39,  1.66s/it]\u001b[A\n",
            "Iteration:  44%|████▎     | 383/877 [10:12<13:37,  1.66s/it]\u001b[A\n",
            "Iteration:  44%|████▍     | 384/877 [10:14<13:34,  1.65s/it]\u001b[A\n",
            "Iteration:  44%|████▍     | 385/877 [10:15<13:31,  1.65s/it]\u001b[A\n",
            "Iteration:  44%|████▍     | 386/877 [10:17<13:30,  1.65s/it]\u001b[A\n",
            "Iteration:  44%|████▍     | 387/877 [10:19<13:29,  1.65s/it]\u001b[A\n",
            "Iteration:  44%|████▍     | 388/877 [10:20<13:28,  1.65s/it]\u001b[A\n",
            "Iteration:  44%|████▍     | 389/877 [10:22<13:27,  1.65s/it]\u001b[A\n",
            "Iteration:  44%|████▍     | 390/877 [10:24<13:25,  1.65s/it]\u001b[A\n",
            "Iteration:  45%|████▍     | 391/877 [10:25<13:23,  1.65s/it]\u001b[A\n",
            "Iteration:  45%|████▍     | 392/877 [10:27<13:22,  1.65s/it]\u001b[A\n",
            "Iteration:  45%|████▍     | 393/877 [10:29<13:21,  1.66s/it]\u001b[A\n",
            "Iteration:  45%|████▍     | 394/877 [10:30<13:20,  1.66s/it]\u001b[A\n",
            "Iteration:  45%|████▌     | 395/877 [10:32<13:19,  1.66s/it]\u001b[A\n",
            "Iteration:  45%|████▌     | 396/877 [10:34<13:18,  1.66s/it]\u001b[A\n",
            "Iteration:  45%|████▌     | 397/877 [10:35<13:15,  1.66s/it]\u001b[A\n",
            "Iteration:  45%|████▌     | 398/877 [10:37<13:13,  1.66s/it]\u001b[A\n",
            "Iteration:  45%|████▌     | 399/877 [10:39<13:11,  1.66s/it]\u001b[A\n",
            "Iteration:  46%|████▌     | 400/877 [10:40<13:10,  1.66s/it]\u001b[A\n",
            "Iteration:  46%|████▌     | 401/877 [10:42<13:09,  1.66s/it]\u001b[A\n",
            "Iteration:  46%|████▌     | 402/877 [10:44<13:08,  1.66s/it]\u001b[A\n",
            "Iteration:  46%|████▌     | 403/877 [10:45<13:07,  1.66s/it]\u001b[A\n",
            "Iteration:  46%|████▌     | 404/877 [10:47<13:05,  1.66s/it]\u001b[A\n",
            "Iteration:  46%|████▌     | 405/877 [10:49<13:03,  1.66s/it]\u001b[A\n",
            "Iteration:  46%|████▋     | 406/877 [10:50<13:01,  1.66s/it]\u001b[A\n",
            "Iteration:  46%|████▋     | 407/877 [10:52<12:59,  1.66s/it]\u001b[A\n",
            "Iteration:  47%|████▋     | 408/877 [10:54<12:58,  1.66s/it]\u001b[A\n",
            "Iteration:  47%|████▋     | 409/877 [10:55<12:55,  1.66s/it]\u001b[A\n",
            "Iteration:  47%|████▋     | 410/877 [10:57<12:55,  1.66s/it]\u001b[A\n",
            "Iteration:  47%|████▋     | 411/877 [10:59<12:54,  1.66s/it]\u001b[A\n",
            "Iteration:  47%|████▋     | 412/877 [11:00<12:53,  1.66s/it]\u001b[A\n",
            "Iteration:  47%|████▋     | 413/877 [11:02<12:52,  1.66s/it]\u001b[A\n",
            "Iteration:  47%|████▋     | 414/877 [11:04<12:49,  1.66s/it]\u001b[A\n",
            "Iteration:  47%|████▋     | 415/877 [11:05<12:47,  1.66s/it]\u001b[A\n",
            "Iteration:  47%|████▋     | 416/877 [11:07<12:44,  1.66s/it]\u001b[A\n",
            "Iteration:  48%|████▊     | 417/877 [11:09<12:43,  1.66s/it]\u001b[A\n",
            "Iteration:  48%|████▊     | 418/877 [11:10<12:41,  1.66s/it]\u001b[A\n",
            "Iteration:  48%|████▊     | 419/877 [11:12<12:39,  1.66s/it]\u001b[A\n",
            "Iteration:  48%|████▊     | 420/877 [11:14<12:38,  1.66s/it]\u001b[A\n",
            "Iteration:  48%|████▊     | 421/877 [11:15<12:37,  1.66s/it]\u001b[A\n",
            "Iteration:  48%|████▊     | 422/877 [11:17<12:34,  1.66s/it]\u001b[A\n",
            "Iteration:  48%|████▊     | 423/877 [11:19<12:33,  1.66s/it]\u001b[A\n",
            "Iteration:  48%|████▊     | 424/877 [11:20<12:31,  1.66s/it]\u001b[A\n",
            "Iteration:  48%|████▊     | 425/877 [11:22<12:29,  1.66s/it]\u001b[A\n",
            "Iteration:  49%|████▊     | 426/877 [11:24<12:29,  1.66s/it]\u001b[A\n",
            "Iteration:  49%|████▊     | 427/877 [11:25<12:28,  1.66s/it]\u001b[A\n",
            "Iteration:  49%|████▉     | 428/877 [11:27<12:26,  1.66s/it]\u001b[A\n",
            "Iteration:  49%|████▉     | 429/877 [11:29<12:24,  1.66s/it]\u001b[A\n",
            "Iteration:  49%|████▉     | 430/877 [11:30<12:21,  1.66s/it]\u001b[A\n",
            "Iteration:  49%|████▉     | 431/877 [11:32<12:20,  1.66s/it]\u001b[A\n",
            "Iteration:  49%|████▉     | 432/877 [11:33<12:18,  1.66s/it]\u001b[A\n",
            "Iteration:  49%|████▉     | 433/877 [11:35<12:16,  1.66s/it]\u001b[A\n",
            "Iteration:  49%|████▉     | 434/877 [11:37<12:15,  1.66s/it]\u001b[A\n",
            "Iteration:  50%|████▉     | 435/877 [11:38<12:13,  1.66s/it]\u001b[A\n",
            "Iteration:  50%|████▉     | 436/877 [11:40<12:12,  1.66s/it]\u001b[A\n",
            "Iteration:  50%|████▉     | 437/877 [11:42<12:11,  1.66s/it]\u001b[A\n",
            "Iteration:  50%|████▉     | 438/877 [11:43<12:08,  1.66s/it]\u001b[A\n",
            "Iteration:  50%|█████     | 439/877 [11:45<12:07,  1.66s/it]\u001b[A\n",
            "Iteration:  50%|█████     | 440/877 [11:47<12:06,  1.66s/it]\u001b[A\n",
            "Iteration:  50%|█████     | 441/877 [11:48<12:03,  1.66s/it]\u001b[A\n",
            "Iteration:  50%|█████     | 442/877 [11:50<12:01,  1.66s/it]\u001b[A\n",
            "Iteration:  51%|█████     | 443/877 [11:52<12:00,  1.66s/it]\u001b[A\n",
            "Iteration:  51%|█████     | 444/877 [11:53<11:58,  1.66s/it]\u001b[A\n",
            "Iteration:  51%|█████     | 445/877 [11:55<11:57,  1.66s/it]\u001b[A\n",
            "Iteration:  51%|█████     | 446/877 [11:57<11:56,  1.66s/it]\u001b[A\n",
            "Iteration:  51%|█████     | 447/877 [11:58<11:54,  1.66s/it]\u001b[A\n",
            "Iteration:  51%|█████     | 448/877 [12:00<11:53,  1.66s/it]\u001b[A\n",
            "Iteration:  51%|█████     | 449/877 [12:02<11:52,  1.66s/it]\u001b[A\n",
            "Iteration:  51%|█████▏    | 450/877 [12:03<11:50,  1.66s/it]\u001b[A\n",
            "Iteration:  51%|█████▏    | 451/877 [12:05<11:47,  1.66s/it]\u001b[A\n",
            "Iteration:  52%|█████▏    | 452/877 [12:07<11:45,  1.66s/it]\u001b[A\n",
            "Iteration:  52%|█████▏    | 453/877 [12:08<11:44,  1.66s/it]\u001b[A\n",
            "Iteration:  52%|█████▏    | 454/877 [12:10<11:43,  1.66s/it]\u001b[A\n",
            "Iteration:  52%|█████▏    | 455/877 [12:12<11:41,  1.66s/it]\u001b[A\n",
            "Iteration:  52%|█████▏    | 456/877 [12:13<11:39,  1.66s/it]\u001b[A\n",
            "Iteration:  52%|█████▏    | 457/877 [12:15<11:37,  1.66s/it]\u001b[A\n",
            "Iteration:  52%|█████▏    | 458/877 [12:17<11:36,  1.66s/it]\u001b[A\n",
            "Iteration:  52%|█████▏    | 459/877 [12:18<11:35,  1.66s/it]\u001b[A\n",
            "Iteration:  52%|█████▏    | 460/877 [12:20<11:32,  1.66s/it]\u001b[A\n",
            "Iteration:  53%|█████▎    | 461/877 [12:22<11:30,  1.66s/it]\u001b[A\n",
            "Iteration:  53%|█████▎    | 462/877 [12:23<11:29,  1.66s/it]\u001b[A\n",
            "Iteration:  53%|█████▎    | 463/877 [12:25<11:27,  1.66s/it]\u001b[A\n",
            "Iteration:  53%|█████▎    | 464/877 [12:27<11:25,  1.66s/it]\u001b[A\n",
            "Iteration:  53%|█████▎    | 465/877 [12:28<11:24,  1.66s/it]\u001b[A\n",
            "Iteration:  53%|█████▎    | 466/877 [12:30<11:22,  1.66s/it]\u001b[A\n",
            "Iteration:  53%|█████▎    | 467/877 [12:32<11:21,  1.66s/it]\u001b[A\n",
            "Iteration:  53%|█████▎    | 468/877 [12:33<11:18,  1.66s/it]\u001b[A\n",
            "Iteration:  53%|█████▎    | 469/877 [12:35<11:17,  1.66s/it]\u001b[A\n",
            "Iteration:  54%|█████▎    | 470/877 [12:37<11:16,  1.66s/it]\u001b[A\n",
            "Iteration:  54%|█████▎    | 471/877 [12:38<11:15,  1.66s/it]\u001b[A\n",
            "Iteration:  54%|█████▍    | 472/877 [12:40<11:13,  1.66s/it]\u001b[A\n",
            "Iteration:  54%|█████▍    | 473/877 [12:42<11:12,  1.66s/it]\u001b[A\n",
            "Iteration:  54%|█████▍    | 474/877 [12:43<11:11,  1.67s/it]\u001b[A\n",
            "Iteration:  54%|█████▍    | 475/877 [12:45<11:09,  1.67s/it]\u001b[A\n",
            "Iteration:  54%|█████▍    | 476/877 [12:47<11:07,  1.67s/it]\u001b[A\n",
            "Iteration:  54%|█████▍    | 477/877 [12:48<11:05,  1.66s/it]\u001b[A\n",
            "Iteration:  55%|█████▍    | 478/877 [12:50<11:03,  1.66s/it]\u001b[A\n",
            "Iteration:  55%|█████▍    | 479/877 [12:52<11:02,  1.66s/it]\u001b[A\n",
            "Iteration:  55%|█████▍    | 480/877 [12:53<11:00,  1.66s/it]\u001b[A\n",
            "Iteration:  55%|█████▍    | 481/877 [12:55<10:57,  1.66s/it]\u001b[A\n",
            "Iteration:  55%|█████▍    | 482/877 [12:57<10:56,  1.66s/it]\u001b[A\n",
            "Iteration:  55%|█████▌    | 483/877 [12:58<10:54,  1.66s/it]\u001b[A\n",
            "Iteration:  55%|█████▌    | 484/877 [13:00<10:51,  1.66s/it]\u001b[A\n",
            "Iteration:  55%|█████▌    | 485/877 [13:02<10:50,  1.66s/it]\u001b[A\n",
            "Iteration:  55%|█████▌    | 486/877 [13:03<10:48,  1.66s/it]\u001b[A\n",
            "Iteration:  56%|█████▌    | 487/877 [13:05<10:46,  1.66s/it]\u001b[A\n",
            "Iteration:  56%|█████▌    | 488/877 [13:07<10:44,  1.66s/it]\u001b[A\n",
            "Iteration:  56%|█████▌    | 489/877 [13:08<10:42,  1.66s/it]\u001b[A\n",
            "Iteration:  56%|█████▌    | 490/877 [13:10<10:40,  1.66s/it]\u001b[A\n",
            "Iteration:  56%|█████▌    | 491/877 [13:11<10:38,  1.65s/it]\u001b[A\n",
            "Iteration:  56%|█████▌    | 492/877 [13:13<10:37,  1.66s/it]\u001b[A\n",
            "Iteration:  56%|█████▌    | 493/877 [13:15<10:35,  1.66s/it]\u001b[A\n",
            "Iteration:  56%|█████▋    | 494/877 [13:16<10:33,  1.65s/it]\u001b[A\n",
            "Iteration:  56%|█████▋    | 495/877 [13:18<10:31,  1.65s/it]\u001b[A\n",
            "Iteration:  57%|█████▋    | 496/877 [13:20<10:29,  1.65s/it]\u001b[A\n",
            "Iteration:  57%|█████▋    | 497/877 [13:21<10:27,  1.65s/it]\u001b[A\n",
            "Iteration:  57%|█████▋    | 498/877 [13:23<10:27,  1.65s/it]\u001b[A\n",
            "Iteration:  57%|█████▋    | 499/877 [13:25<10:25,  1.65s/it]\u001b[A\n",
            "Iteration:  57%|█████▋    | 500/877 [13:26<10:22,  1.65s/it]\u001b[A"
          ],
          "name": "stderr"
        },
        {
          "output_type": "stream",
          "text": [
            "Train loss: 1.746605106830597\n"
          ],
          "name": "stdout"
        },
        {
          "output_type": "stream",
          "text": [
            "\n",
            "Iteration:  57%|█████▋    | 501/877 [13:30<13:36,  2.17s/it]\u001b[A"
          ],
          "name": "stderr"
        },
        {
          "output_type": "stream",
          "text": [
            "Saving model checkpoint to /drive/My Drive/Medium/checkpoint-500\n"
          ],
          "name": "stdout"
        },
        {
          "output_type": "stream",
          "text": [
            "\n",
            "Iteration:  57%|█████▋    | 502/877 [13:31<12:31,  2.00s/it]\u001b[A\n",
            "Iteration:  57%|█████▋    | 503/877 [13:33<11:50,  1.90s/it]\u001b[A\n",
            "Iteration:  57%|█████▋    | 504/877 [13:35<11:19,  1.82s/it]\u001b[A\n",
            "Iteration:  58%|█████▊    | 505/877 [13:36<10:57,  1.77s/it]\u001b[A\n",
            "Iteration:  58%|█████▊    | 506/877 [13:38<10:42,  1.73s/it]\u001b[A\n",
            "Iteration:  58%|█████▊    | 507/877 [13:40<10:30,  1.70s/it]\u001b[A\n",
            "Iteration:  58%|█████▊    | 508/877 [13:41<10:23,  1.69s/it]\u001b[A\n",
            "Iteration:  58%|█████▊    | 509/877 [13:43<10:15,  1.67s/it]\u001b[A\n",
            "Iteration:  58%|█████▊    | 510/877 [13:44<10:09,  1.66s/it]\u001b[A\n",
            "Iteration:  58%|█████▊    | 511/877 [13:46<10:05,  1.66s/it]\u001b[A\n",
            "Iteration:  58%|█████▊    | 512/877 [13:48<10:02,  1.65s/it]\u001b[A\n",
            "Iteration:  58%|█████▊    | 513/877 [13:49<10:00,  1.65s/it]\u001b[A\n",
            "Iteration:  59%|█████▊    | 514/877 [13:51<09:57,  1.65s/it]\u001b[A\n",
            "Iteration:  59%|█████▊    | 515/877 [13:53<09:54,  1.64s/it]\u001b[A\n",
            "Iteration:  59%|█████▉    | 516/877 [13:54<09:53,  1.64s/it]\u001b[A\n",
            "Iteration:  59%|█████▉    | 517/877 [13:56<09:50,  1.64s/it]\u001b[A\n",
            "Iteration:  59%|█████▉    | 518/877 [13:58<09:49,  1.64s/it]\u001b[A\n",
            "Iteration:  59%|█████▉    | 519/877 [13:59<09:48,  1.64s/it]\u001b[A\n",
            "Iteration:  59%|█████▉    | 520/877 [14:01<09:46,  1.64s/it]\u001b[A\n",
            "Iteration:  59%|█████▉    | 521/877 [14:03<09:44,  1.64s/it]\u001b[A\n",
            "Iteration:  60%|█████▉    | 522/877 [14:04<09:43,  1.64s/it]\u001b[A\n",
            "Iteration:  60%|█████▉    | 523/877 [14:06<09:41,  1.64s/it]\u001b[A\n",
            "Iteration:  60%|█████▉    | 524/877 [14:07<09:38,  1.64s/it]\u001b[A\n",
            "Iteration:  60%|█████▉    | 525/877 [14:09<09:36,  1.64s/it]\u001b[A\n",
            "Iteration:  60%|█████▉    | 526/877 [14:11<09:34,  1.64s/it]\u001b[A\n",
            "Iteration:  60%|██████    | 527/877 [14:12<09:32,  1.64s/it]\u001b[A\n",
            "Iteration:  60%|██████    | 528/877 [14:14<09:30,  1.63s/it]\u001b[A\n",
            "Iteration:  60%|██████    | 529/877 [14:16<09:29,  1.64s/it]\u001b[A\n",
            "Iteration:  60%|██████    | 530/877 [14:17<09:27,  1.64s/it]\u001b[A\n",
            "Iteration:  61%|██████    | 531/877 [14:19<09:26,  1.64s/it]\u001b[A\n",
            "Iteration:  61%|██████    | 532/877 [14:21<09:25,  1.64s/it]\u001b[A\n",
            "Iteration:  61%|██████    | 533/877 [14:22<09:24,  1.64s/it]\u001b[A\n",
            "Iteration:  61%|██████    | 534/877 [14:24<09:23,  1.64s/it]\u001b[A\n",
            "Iteration:  61%|██████    | 535/877 [14:25<09:22,  1.64s/it]\u001b[A\n",
            "Iteration:  61%|██████    | 536/877 [14:27<09:20,  1.64s/it]\u001b[A\n",
            "Iteration:  61%|██████    | 537/877 [14:29<09:18,  1.64s/it]\u001b[A\n",
            "Iteration:  61%|██████▏   | 538/877 [14:30<09:17,  1.64s/it]\u001b[A\n",
            "Iteration:  61%|██████▏   | 539/877 [14:32<09:16,  1.65s/it]\u001b[A\n",
            "Iteration:  62%|██████▏   | 540/877 [14:34<09:14,  1.64s/it]\u001b[A\n",
            "Iteration:  62%|██████▏   | 541/877 [14:35<09:12,  1.65s/it]\u001b[A\n",
            "Iteration:  62%|██████▏   | 542/877 [14:37<09:10,  1.64s/it]\u001b[A\n",
            "Iteration:  62%|██████▏   | 543/877 [14:39<09:08,  1.64s/it]\u001b[A\n",
            "Iteration:  62%|██████▏   | 544/877 [14:40<09:07,  1.64s/it]\u001b[A\n",
            "Iteration:  62%|██████▏   | 545/877 [14:42<09:05,  1.64s/it]\u001b[A\n",
            "Iteration:  62%|██████▏   | 546/877 [14:44<09:03,  1.64s/it]\u001b[A\n",
            "Iteration:  62%|██████▏   | 547/877 [14:45<09:02,  1.64s/it]\u001b[A\n",
            "Iteration:  62%|██████▏   | 548/877 [14:47<09:00,  1.64s/it]\u001b[A\n",
            "Iteration:  63%|██████▎   | 549/877 [14:49<08:58,  1.64s/it]\u001b[A\n",
            "Iteration:  63%|██████▎   | 550/877 [14:50<08:57,  1.64s/it]\u001b[A\n",
            "Iteration:  63%|██████▎   | 551/877 [14:52<08:55,  1.64s/it]\u001b[A\n",
            "Iteration:  63%|██████▎   | 552/877 [14:53<08:53,  1.64s/it]\u001b[A\n",
            "Iteration:  63%|██████▎   | 553/877 [14:55<08:51,  1.64s/it]\u001b[A\n",
            "Iteration:  63%|██████▎   | 554/877 [14:57<08:49,  1.64s/it]\u001b[A\n",
            "Iteration:  63%|██████▎   | 555/877 [14:58<08:48,  1.64s/it]\u001b[A\n",
            "Iteration:  63%|██████▎   | 556/877 [15:00<08:47,  1.64s/it]\u001b[A\n",
            "Iteration:  64%|██████▎   | 557/877 [15:02<08:45,  1.64s/it]\u001b[A\n",
            "Iteration:  64%|██████▎   | 558/877 [15:03<08:44,  1.64s/it]\u001b[A\n",
            "Iteration:  64%|██████▎   | 559/877 [15:05<08:43,  1.64s/it]\u001b[A\n",
            "Iteration:  64%|██████▍   | 560/877 [15:07<08:40,  1.64s/it]\u001b[A\n",
            "Iteration:  64%|██████▍   | 561/877 [15:08<08:39,  1.64s/it]\u001b[A\n",
            "Iteration:  64%|██████▍   | 562/877 [15:10<08:38,  1.65s/it]\u001b[A\n",
            "Iteration:  64%|██████▍   | 563/877 [15:12<08:37,  1.65s/it]\u001b[A\n",
            "Iteration:  64%|██████▍   | 564/877 [15:13<08:35,  1.65s/it]\u001b[A\n",
            "Iteration:  64%|██████▍   | 565/877 [15:15<08:33,  1.65s/it]\u001b[A\n",
            "Iteration:  65%|██████▍   | 566/877 [15:16<08:32,  1.65s/it]\u001b[A\n",
            "Iteration:  65%|██████▍   | 567/877 [15:18<08:30,  1.65s/it]\u001b[A\n",
            "Iteration:  65%|██████▍   | 568/877 [15:20<08:28,  1.65s/it]\u001b[A\n",
            "Iteration:  65%|██████▍   | 569/877 [15:21<08:27,  1.65s/it]\u001b[A\n",
            "Iteration:  65%|██████▍   | 570/877 [15:23<08:26,  1.65s/it]\u001b[A\n",
            "Iteration:  65%|██████▌   | 571/877 [15:25<08:23,  1.65s/it]\u001b[A\n",
            "Iteration:  65%|██████▌   | 572/877 [15:26<08:22,  1.65s/it]\u001b[A\n",
            "Iteration:  65%|██████▌   | 573/877 [15:28<08:20,  1.65s/it]\u001b[A\n",
            "Iteration:  65%|██████▌   | 574/877 [15:30<08:18,  1.65s/it]\u001b[A\n",
            "Iteration:  66%|██████▌   | 575/877 [15:31<08:17,  1.65s/it]\u001b[A\n",
            "Iteration:  66%|██████▌   | 576/877 [15:33<08:15,  1.65s/it]\u001b[A\n",
            "Iteration:  66%|██████▌   | 577/877 [15:35<08:13,  1.65s/it]\u001b[A\n",
            "Iteration:  66%|██████▌   | 578/877 [15:36<08:12,  1.65s/it]\u001b[A\n",
            "Iteration:  66%|██████▌   | 579/877 [15:38<08:10,  1.65s/it]\u001b[A\n",
            "Iteration:  66%|██████▌   | 580/877 [15:39<08:08,  1.65s/it]\u001b[A\n",
            "Iteration:  66%|██████▌   | 581/877 [15:41<08:07,  1.65s/it]\u001b[A\n",
            "Iteration:  66%|██████▋   | 582/877 [15:43<08:05,  1.64s/it]\u001b[A\n",
            "Iteration:  66%|██████▋   | 583/877 [15:44<08:03,  1.65s/it]\u001b[A\n",
            "Iteration:  67%|██████▋   | 584/877 [15:46<08:02,  1.65s/it]\u001b[A\n",
            "Iteration:  67%|██████▋   | 585/877 [15:48<08:01,  1.65s/it]\u001b[A\n",
            "Iteration:  67%|██████▋   | 586/877 [15:49<07:59,  1.65s/it]\u001b[A\n",
            "Iteration:  67%|██████▋   | 587/877 [15:51<07:57,  1.65s/it]\u001b[A\n",
            "Iteration:  67%|██████▋   | 588/877 [15:53<07:55,  1.64s/it]\u001b[A\n",
            "Iteration:  67%|██████▋   | 589/877 [15:54<07:54,  1.65s/it]\u001b[A\n",
            "Iteration:  67%|██████▋   | 590/877 [15:56<07:52,  1.65s/it]\u001b[A\n",
            "Iteration:  67%|██████▋   | 591/877 [15:58<07:50,  1.65s/it]\u001b[A\n",
            "Iteration:  68%|██████▊   | 592/877 [15:59<07:48,  1.64s/it]\u001b[A\n",
            "Iteration:  68%|██████▊   | 593/877 [16:01<07:47,  1.64s/it]\u001b[A\n",
            "Iteration:  68%|██████▊   | 594/877 [16:03<07:45,  1.65s/it]\u001b[A\n",
            "Iteration:  68%|██████▊   | 595/877 [16:04<07:44,  1.65s/it]\u001b[A\n",
            "Iteration:  68%|██████▊   | 596/877 [16:06<07:43,  1.65s/it]\u001b[A\n",
            "Iteration:  68%|██████▊   | 597/877 [16:07<07:40,  1.65s/it]\u001b[A\n",
            "Iteration:  68%|██████▊   | 598/877 [16:09<07:39,  1.65s/it]\u001b[A\n",
            "Iteration:  68%|██████▊   | 599/877 [16:11<07:37,  1.65s/it]\u001b[A\n",
            "Iteration:  68%|██████▊   | 600/877 [16:12<07:35,  1.64s/it]\u001b[A\n",
            "Iteration:  69%|██████▊   | 601/877 [16:14<07:34,  1.65s/it]\u001b[A\n",
            "Iteration:  69%|██████▊   | 602/877 [16:16<07:33,  1.65s/it]\u001b[A\n",
            "Iteration:  69%|██████▉   | 603/877 [16:17<07:30,  1.65s/it]\u001b[A\n",
            "Iteration:  69%|██████▉   | 604/877 [16:19<07:29,  1.65s/it]\u001b[A\n",
            "Iteration:  69%|██████▉   | 605/877 [16:21<07:27,  1.65s/it]\u001b[A\n",
            "Iteration:  69%|██████▉   | 606/877 [16:22<07:26,  1.65s/it]\u001b[A\n",
            "Iteration:  69%|██████▉   | 607/877 [16:24<07:24,  1.65s/it]\u001b[A\n",
            "Iteration:  69%|██████▉   | 608/877 [16:26<07:23,  1.65s/it]\u001b[A\n",
            "Iteration:  69%|██████▉   | 609/877 [16:27<07:21,  1.65s/it]\u001b[A\n",
            "Iteration:  70%|██████▉   | 610/877 [16:29<07:19,  1.65s/it]\u001b[A\n",
            "Iteration:  70%|██████▉   | 611/877 [16:31<07:18,  1.65s/it]\u001b[A\n",
            "Iteration:  70%|██████▉   | 612/877 [16:32<07:16,  1.65s/it]\u001b[A\n",
            "Iteration:  70%|██████▉   | 613/877 [16:34<07:14,  1.65s/it]\u001b[A\n",
            "Iteration:  70%|███████   | 614/877 [16:35<07:13,  1.65s/it]\u001b[A\n",
            "Iteration:  70%|███████   | 615/877 [16:37<07:12,  1.65s/it]\u001b[A\n",
            "Iteration:  70%|███████   | 616/877 [16:39<07:11,  1.65s/it]\u001b[A\n",
            "Iteration:  70%|███████   | 617/877 [16:40<07:09,  1.65s/it]\u001b[A\n",
            "Iteration:  70%|███████   | 618/877 [16:42<07:07,  1.65s/it]\u001b[A\n",
            "Iteration:  71%|███████   | 619/877 [16:44<07:05,  1.65s/it]\u001b[A\n",
            "Iteration:  71%|███████   | 620/877 [16:45<07:03,  1.65s/it]\u001b[A\n",
            "Iteration:  71%|███████   | 621/877 [16:47<07:02,  1.65s/it]\u001b[A\n",
            "Iteration:  71%|███████   | 622/877 [16:49<07:00,  1.65s/it]\u001b[A\n",
            "Iteration:  71%|███████   | 623/877 [16:50<06:59,  1.65s/it]\u001b[A\n",
            "Iteration:  71%|███████   | 624/877 [16:52<06:57,  1.65s/it]\u001b[A\n",
            "Iteration:  71%|███████▏  | 625/877 [16:54<06:55,  1.65s/it]\u001b[A\n",
            "Iteration:  71%|███████▏  | 626/877 [16:55<06:54,  1.65s/it]\u001b[A\n",
            "Iteration:  71%|███████▏  | 627/877 [16:57<06:52,  1.65s/it]\u001b[A\n",
            "Iteration:  72%|███████▏  | 628/877 [16:59<06:50,  1.65s/it]\u001b[A\n",
            "Iteration:  72%|███████▏  | 629/877 [17:00<06:49,  1.65s/it]\u001b[A\n",
            "Iteration:  72%|███████▏  | 630/877 [17:02<06:46,  1.65s/it]\u001b[A\n",
            "Iteration:  72%|███████▏  | 631/877 [17:04<06:45,  1.65s/it]\u001b[A\n",
            "Iteration:  72%|███████▏  | 632/877 [17:05<06:43,  1.65s/it]\u001b[A\n",
            "Iteration:  72%|███████▏  | 633/877 [17:07<06:42,  1.65s/it]\u001b[A\n",
            "Iteration:  72%|███████▏  | 634/877 [17:08<06:40,  1.65s/it]\u001b[A\n",
            "Iteration:  72%|███████▏  | 635/877 [17:10<06:39,  1.65s/it]\u001b[A\n",
            "Iteration:  73%|███████▎  | 636/877 [17:12<06:38,  1.65s/it]\u001b[A\n",
            "Iteration:  73%|███████▎  | 637/877 [17:13<06:36,  1.65s/it]\u001b[A\n",
            "Iteration:  73%|███████▎  | 638/877 [17:15<06:34,  1.65s/it]\u001b[A\n",
            "Iteration:  73%|███████▎  | 639/877 [17:17<06:32,  1.65s/it]\u001b[A\n",
            "Iteration:  73%|███████▎  | 640/877 [17:18<06:31,  1.65s/it]\u001b[A\n",
            "Iteration:  73%|███████▎  | 641/877 [17:20<06:29,  1.65s/it]\u001b[A\n",
            "Iteration:  73%|███████▎  | 642/877 [17:22<06:27,  1.65s/it]\u001b[A\n",
            "Iteration:  73%|███████▎  | 643/877 [17:23<06:25,  1.65s/it]\u001b[A\n",
            "Iteration:  73%|███████▎  | 644/877 [17:25<06:23,  1.65s/it]\u001b[A\n",
            "Iteration:  74%|███████▎  | 645/877 [17:27<06:21,  1.65s/it]\u001b[A\n",
            "Iteration:  74%|███████▎  | 646/877 [17:28<06:21,  1.65s/it]\u001b[A\n",
            "Iteration:  74%|███████▍  | 647/877 [17:30<06:20,  1.65s/it]\u001b[A\n",
            "Iteration:  74%|███████▍  | 648/877 [17:32<06:18,  1.65s/it]\u001b[A\n",
            "Iteration:  74%|███████▍  | 649/877 [17:33<06:17,  1.65s/it]\u001b[A\n",
            "Iteration:  74%|███████▍  | 650/877 [17:35<06:15,  1.65s/it]\u001b[A\n",
            "Iteration:  74%|███████▍  | 651/877 [17:37<06:13,  1.65s/it]\u001b[A\n",
            "Iteration:  74%|███████▍  | 652/877 [17:38<06:12,  1.65s/it]\u001b[A\n",
            "Iteration:  74%|███████▍  | 653/877 [17:40<06:10,  1.65s/it]\u001b[A\n",
            "Iteration:  75%|███████▍  | 654/877 [17:42<06:09,  1.66s/it]\u001b[A\n",
            "Iteration:  75%|███████▍  | 655/877 [17:43<06:07,  1.65s/it]\u001b[A\n",
            "Iteration:  75%|███████▍  | 656/877 [17:45<06:05,  1.65s/it]\u001b[A\n",
            "Iteration:  75%|███████▍  | 657/877 [17:46<06:04,  1.65s/it]\u001b[A\n",
            "Iteration:  75%|███████▌  | 658/877 [17:48<06:01,  1.65s/it]\u001b[A\n",
            "Iteration:  75%|███████▌  | 659/877 [17:50<06:00,  1.65s/it]\u001b[A\n",
            "Iteration:  75%|███████▌  | 660/877 [17:51<05:58,  1.65s/it]\u001b[A\n",
            "Iteration:  75%|███████▌  | 661/877 [17:53<05:57,  1.65s/it]\u001b[A\n",
            "Iteration:  75%|███████▌  | 662/877 [17:55<05:55,  1.65s/it]\u001b[A\n",
            "Iteration:  76%|███████▌  | 663/877 [17:56<05:54,  1.66s/it]\u001b[A\n",
            "Iteration:  76%|███████▌  | 664/877 [17:58<05:53,  1.66s/it]\u001b[A\n",
            "Iteration:  76%|███████▌  | 665/877 [18:00<05:51,  1.66s/it]\u001b[A\n",
            "Iteration:  76%|███████▌  | 666/877 [18:01<05:49,  1.66s/it]\u001b[A\n",
            "Iteration:  76%|███████▌  | 667/877 [18:03<05:47,  1.65s/it]\u001b[A\n",
            "Iteration:  76%|███████▌  | 668/877 [18:05<05:45,  1.65s/it]\u001b[A\n",
            "Iteration:  76%|███████▋  | 669/877 [18:06<05:44,  1.66s/it]\u001b[A\n",
            "Iteration:  76%|███████▋  | 670/877 [18:08<05:42,  1.65s/it]\u001b[A\n",
            "Iteration:  77%|███████▋  | 671/877 [18:10<05:41,  1.66s/it]\u001b[A\n",
            "Iteration:  77%|███████▋  | 672/877 [18:11<05:39,  1.66s/it]\u001b[A\n",
            "Iteration:  77%|███████▋  | 673/877 [18:13<05:38,  1.66s/it]\u001b[A\n",
            "Iteration:  77%|███████▋  | 674/877 [18:15<05:36,  1.66s/it]\u001b[A\n",
            "Iteration:  77%|███████▋  | 675/877 [18:16<05:34,  1.66s/it]\u001b[A\n",
            "Iteration:  77%|███████▋  | 676/877 [18:18<05:32,  1.65s/it]\u001b[A\n",
            "Iteration:  77%|███████▋  | 677/877 [18:20<05:31,  1.66s/it]\u001b[A\n",
            "Iteration:  77%|███████▋  | 678/877 [18:21<05:29,  1.66s/it]\u001b[A\n",
            "Iteration:  77%|███████▋  | 679/877 [18:23<05:27,  1.65s/it]\u001b[A\n",
            "Iteration:  78%|███████▊  | 680/877 [18:25<05:26,  1.66s/it]\u001b[A\n",
            "Iteration:  78%|███████▊  | 681/877 [18:26<05:24,  1.66s/it]\u001b[A\n",
            "Iteration:  78%|███████▊  | 682/877 [18:28<05:22,  1.65s/it]\u001b[A\n",
            "Iteration:  78%|███████▊  | 683/877 [18:30<05:20,  1.65s/it]\u001b[A\n",
            "Iteration:  78%|███████▊  | 684/877 [18:31<05:19,  1.65s/it]\u001b[A\n",
            "Iteration:  78%|███████▊  | 685/877 [18:33<05:17,  1.65s/it]\u001b[A\n",
            "Iteration:  78%|███████▊  | 686/877 [18:34<05:15,  1.65s/it]\u001b[A\n",
            "Iteration:  78%|███████▊  | 687/877 [18:36<05:13,  1.65s/it]\u001b[A\n",
            "Iteration:  78%|███████▊  | 688/877 [18:38<05:12,  1.65s/it]\u001b[A\n",
            "Iteration:  79%|███████▊  | 689/877 [18:39<05:10,  1.65s/it]\u001b[A\n",
            "Iteration:  79%|███████▊  | 690/877 [18:41<05:09,  1.66s/it]\u001b[A\n",
            "Iteration:  79%|███████▉  | 691/877 [18:43<05:08,  1.66s/it]\u001b[A\n",
            "Iteration:  79%|███████▉  | 692/877 [18:44<05:06,  1.65s/it]\u001b[A\n",
            "Iteration:  79%|███████▉  | 693/877 [18:46<05:05,  1.66s/it]\u001b[A\n",
            "Iteration:  79%|███████▉  | 694/877 [18:48<05:03,  1.66s/it]\u001b[A\n",
            "Iteration:  79%|███████▉  | 695/877 [18:49<05:01,  1.66s/it]\u001b[A\n",
            "Iteration:  79%|███████▉  | 696/877 [18:51<04:59,  1.65s/it]\u001b[A\n",
            "Iteration:  79%|███████▉  | 697/877 [18:53<04:58,  1.66s/it]\u001b[A\n",
            "Iteration:  80%|███████▉  | 698/877 [18:54<04:56,  1.66s/it]\u001b[A\n",
            "Iteration:  80%|███████▉  | 699/877 [18:56<04:54,  1.66s/it]\u001b[A\n",
            "Iteration:  80%|███████▉  | 700/877 [18:58<04:52,  1.65s/it]\u001b[A\n",
            "Iteration:  80%|███████▉  | 701/877 [18:59<04:51,  1.65s/it]\u001b[A\n",
            "Iteration:  80%|████████  | 702/877 [19:01<04:49,  1.65s/it]\u001b[A\n",
            "Iteration:  80%|████████  | 703/877 [19:03<04:47,  1.65s/it]\u001b[A\n",
            "Iteration:  80%|████████  | 704/877 [19:04<04:46,  1.66s/it]\u001b[A\n",
            "Iteration:  80%|████████  | 705/877 [19:06<04:44,  1.65s/it]\u001b[A\n",
            "Iteration:  81%|████████  | 706/877 [19:08<04:43,  1.66s/it]\u001b[A\n",
            "Iteration:  81%|████████  | 707/877 [19:09<04:41,  1.65s/it]\u001b[A\n",
            "Iteration:  81%|████████  | 708/877 [19:11<04:39,  1.65s/it]\u001b[A\n",
            "Iteration:  81%|████████  | 709/877 [19:13<04:37,  1.65s/it]\u001b[A\n",
            "Iteration:  81%|████████  | 710/877 [19:14<04:36,  1.66s/it]\u001b[A\n",
            "Iteration:  81%|████████  | 711/877 [19:16<04:34,  1.66s/it]\u001b[A\n",
            "Iteration:  81%|████████  | 712/877 [19:18<04:32,  1.65s/it]\u001b[A\n",
            "Iteration:  81%|████████▏ | 713/877 [19:19<04:31,  1.65s/it]\u001b[A\n",
            "Iteration:  81%|████████▏ | 714/877 [19:21<04:29,  1.66s/it]\u001b[A\n",
            "Iteration:  82%|████████▏ | 715/877 [19:22<04:28,  1.66s/it]\u001b[A\n",
            "Iteration:  82%|████████▏ | 716/877 [19:24<04:26,  1.66s/it]\u001b[A\n",
            "Iteration:  82%|████████▏ | 717/877 [19:26<04:25,  1.66s/it]\u001b[A\n",
            "Iteration:  82%|████████▏ | 718/877 [19:27<04:23,  1.66s/it]\u001b[A\n",
            "Iteration:  82%|████████▏ | 719/877 [19:29<04:21,  1.65s/it]\u001b[A\n",
            "Iteration:  82%|████████▏ | 720/877 [19:31<04:19,  1.66s/it]\u001b[A\n",
            "Iteration:  82%|████████▏ | 721/877 [19:32<04:18,  1.66s/it]\u001b[A\n",
            "Iteration:  82%|████████▏ | 722/877 [19:34<04:16,  1.65s/it]\u001b[A\n",
            "Iteration:  82%|████████▏ | 723/877 [19:36<04:14,  1.65s/it]\u001b[A\n",
            "Iteration:  83%|████████▎ | 724/877 [19:37<04:12,  1.65s/it]\u001b[A\n",
            "Iteration:  83%|████████▎ | 725/877 [19:39<04:11,  1.65s/it]\u001b[A\n",
            "Iteration:  83%|████████▎ | 726/877 [19:41<04:09,  1.65s/it]\u001b[A\n",
            "Iteration:  83%|████████▎ | 727/877 [19:42<04:08,  1.66s/it]\u001b[A\n",
            "Iteration:  83%|████████▎ | 728/877 [19:44<04:07,  1.66s/it]\u001b[A\n",
            "Iteration:  83%|████████▎ | 729/877 [19:46<04:05,  1.66s/it]\u001b[A\n",
            "Iteration:  83%|████████▎ | 730/877 [19:47<04:03,  1.65s/it]\u001b[A\n",
            "Iteration:  83%|████████▎ | 731/877 [19:49<04:01,  1.65s/it]\u001b[A\n",
            "Iteration:  83%|████████▎ | 732/877 [19:51<04:00,  1.66s/it]\u001b[A\n",
            "Iteration:  84%|████████▎ | 733/877 [19:52<03:58,  1.66s/it]\u001b[A\n",
            "Iteration:  84%|████████▎ | 734/877 [19:54<03:56,  1.65s/it]\u001b[A\n",
            "Iteration:  84%|████████▍ | 735/877 [19:56<03:55,  1.66s/it]\u001b[A\n",
            "Iteration:  84%|████████▍ | 736/877 [19:57<03:53,  1.65s/it]\u001b[A\n",
            "Iteration:  84%|████████▍ | 737/877 [19:59<03:51,  1.66s/it]\u001b[A\n",
            "Iteration:  84%|████████▍ | 738/877 [20:01<03:50,  1.65s/it]\u001b[A\n",
            "Iteration:  84%|████████▍ | 739/877 [20:02<03:48,  1.66s/it]\u001b[A\n",
            "Iteration:  84%|████████▍ | 740/877 [20:04<03:47,  1.66s/it]\u001b[A\n",
            "Iteration:  84%|████████▍ | 741/877 [20:06<03:45,  1.66s/it]\u001b[A\n",
            "Iteration:  85%|████████▍ | 742/877 [20:07<03:43,  1.66s/it]\u001b[A\n",
            "Iteration:  85%|████████▍ | 743/877 [20:09<03:41,  1.65s/it]\u001b[A\n",
            "Iteration:  85%|████████▍ | 744/877 [20:10<03:39,  1.65s/it]\u001b[A\n",
            "Iteration:  85%|████████▍ | 745/877 [20:12<03:37,  1.65s/it]\u001b[A\n",
            "Iteration:  85%|████████▌ | 746/877 [20:14<03:35,  1.65s/it]\u001b[A\n",
            "Iteration:  85%|████████▌ | 747/877 [20:15<03:34,  1.65s/it]\u001b[A\n",
            "Iteration:  85%|████████▌ | 748/877 [20:17<03:32,  1.65s/it]\u001b[A\n",
            "Iteration:  85%|████████▌ | 749/877 [20:19<03:31,  1.65s/it]\u001b[A\n",
            "Iteration:  86%|████████▌ | 750/877 [20:20<03:29,  1.65s/it]\u001b[A\n",
            "Iteration:  86%|████████▌ | 751/877 [20:22<03:28,  1.65s/it]\u001b[A\n",
            "Iteration:  86%|████████▌ | 752/877 [20:24<03:26,  1.65s/it]\u001b[A\n",
            "Iteration:  86%|████████▌ | 753/877 [20:25<03:25,  1.65s/it]\u001b[A\n",
            "Iteration:  86%|████████▌ | 754/877 [20:27<03:23,  1.65s/it]\u001b[A\n",
            "Iteration:  86%|████████▌ | 755/877 [20:29<03:21,  1.65s/it]\u001b[A\n",
            "Iteration:  86%|████████▌ | 756/877 [20:30<03:19,  1.65s/it]\u001b[A\n",
            "Iteration:  86%|████████▋ | 757/877 [20:32<03:18,  1.65s/it]\u001b[A\n",
            "Iteration:  86%|████████▋ | 758/877 [20:34<03:16,  1.66s/it]\u001b[A\n",
            "Iteration:  87%|████████▋ | 759/877 [20:35<03:15,  1.66s/it]\u001b[A\n",
            "Iteration:  87%|████████▋ | 760/877 [20:37<03:13,  1.66s/it]\u001b[A\n",
            "Iteration:  87%|████████▋ | 761/877 [20:39<03:12,  1.66s/it]\u001b[A\n",
            "Iteration:  87%|████████▋ | 762/877 [20:40<03:10,  1.65s/it]\u001b[A\n",
            "Iteration:  87%|████████▋ | 763/877 [20:42<03:08,  1.66s/it]\u001b[A\n",
            "Iteration:  87%|████████▋ | 764/877 [20:44<03:06,  1.65s/it]\u001b[A\n",
            "Iteration:  87%|████████▋ | 765/877 [20:45<03:05,  1.66s/it]\u001b[A\n",
            "Iteration:  87%|████████▋ | 766/877 [20:47<03:03,  1.66s/it]\u001b[A\n",
            "Iteration:  87%|████████▋ | 767/877 [20:48<03:01,  1.65s/it]\u001b[A\n",
            "Iteration:  88%|████████▊ | 768/877 [20:50<03:00,  1.65s/it]\u001b[A\n",
            "Iteration:  88%|████████▊ | 769/877 [20:52<02:58,  1.65s/it]\u001b[A\n",
            "Iteration:  88%|████████▊ | 770/877 [20:53<02:56,  1.65s/it]\u001b[A\n",
            "Iteration:  88%|████████▊ | 771/877 [20:55<02:55,  1.65s/it]\u001b[A\n",
            "Iteration:  88%|████████▊ | 772/877 [20:57<02:53,  1.65s/it]\u001b[A\n",
            "Iteration:  88%|████████▊ | 773/877 [20:58<02:51,  1.65s/it]\u001b[A\n",
            "Iteration:  88%|████████▊ | 774/877 [21:00<02:50,  1.65s/it]\u001b[A\n",
            "Iteration:  88%|████████▊ | 775/877 [21:02<02:48,  1.65s/it]\u001b[A\n",
            "Iteration:  88%|████████▊ | 776/877 [21:03<02:47,  1.65s/it]\u001b[A\n",
            "Iteration:  89%|████████▊ | 777/877 [21:05<02:45,  1.65s/it]\u001b[A\n",
            "Iteration:  89%|████████▊ | 778/877 [21:07<02:44,  1.66s/it]\u001b[A\n",
            "Iteration:  89%|████████▉ | 779/877 [21:08<02:42,  1.66s/it]\u001b[A\n",
            "Iteration:  89%|████████▉ | 780/877 [21:10<02:41,  1.66s/it]\u001b[A\n",
            "Iteration:  89%|████████▉ | 781/877 [21:12<02:39,  1.66s/it]\u001b[A\n",
            "Iteration:  89%|████████▉ | 782/877 [21:13<02:37,  1.66s/it]\u001b[A\n",
            "Iteration:  89%|████████▉ | 783/877 [21:15<02:35,  1.66s/it]\u001b[A\n",
            "Iteration:  89%|████████▉ | 784/877 [21:17<02:34,  1.66s/it]\u001b[A\n",
            "Iteration:  90%|████████▉ | 785/877 [21:18<02:32,  1.66s/it]\u001b[A\n",
            "Iteration:  90%|████████▉ | 786/877 [21:20<02:30,  1.66s/it]\u001b[A\n",
            "Iteration:  90%|████████▉ | 787/877 [21:22<02:29,  1.66s/it]\u001b[A\n",
            "Iteration:  90%|████████▉ | 788/877 [21:23<02:27,  1.66s/it]\u001b[A\n",
            "Iteration:  90%|████████▉ | 789/877 [21:25<02:25,  1.66s/it]\u001b[A\n",
            "Iteration:  90%|█████████ | 790/877 [21:27<02:24,  1.66s/it]\u001b[A\n",
            "Iteration:  90%|█████████ | 791/877 [21:28<02:22,  1.66s/it]\u001b[A\n",
            "Iteration:  90%|█████████ | 792/877 [21:30<02:20,  1.66s/it]\u001b[A\n",
            "Iteration:  90%|█████████ | 793/877 [21:32<02:19,  1.66s/it]\u001b[A\n",
            "Iteration:  91%|█████████ | 794/877 [21:33<02:17,  1.66s/it]\u001b[A\n",
            "Iteration:  91%|█████████ | 795/877 [21:35<02:16,  1.66s/it]\u001b[A\n",
            "Iteration:  91%|█████████ | 796/877 [21:37<02:14,  1.66s/it]\u001b[A\n",
            "Iteration:  91%|█████████ | 797/877 [21:38<02:12,  1.66s/it]\u001b[A\n",
            "Iteration:  91%|█████████ | 798/877 [21:40<02:11,  1.66s/it]\u001b[A\n",
            "Iteration:  91%|█████████ | 799/877 [21:42<02:09,  1.66s/it]\u001b[A\n",
            "Iteration:  91%|█████████ | 800/877 [21:43<02:07,  1.66s/it]\u001b[A\n",
            "Iteration:  91%|█████████▏| 801/877 [21:45<02:06,  1.66s/it]\u001b[A\n",
            "Iteration:  91%|█████████▏| 802/877 [21:46<02:04,  1.66s/it]\u001b[A\n",
            "Iteration:  92%|█████████▏| 803/877 [21:48<02:02,  1.66s/it]\u001b[A\n",
            "Iteration:  92%|█████████▏| 804/877 [21:50<02:01,  1.66s/it]\u001b[A\n",
            "Iteration:  92%|█████████▏| 805/877 [21:51<01:59,  1.66s/it]\u001b[A\n",
            "Iteration:  92%|█████████▏| 806/877 [21:53<01:57,  1.66s/it]\u001b[A\n",
            "Iteration:  92%|█████████▏| 807/877 [21:55<01:56,  1.66s/it]\u001b[A\n",
            "Iteration:  92%|█████████▏| 808/877 [21:56<01:54,  1.66s/it]\u001b[A\n",
            "Iteration:  92%|█████████▏| 809/877 [21:58<01:52,  1.66s/it]\u001b[A\n",
            "Iteration:  92%|█████████▏| 810/877 [22:00<01:51,  1.66s/it]\u001b[A\n",
            "Iteration:  92%|█████████▏| 811/877 [22:01<01:49,  1.66s/it]\u001b[A\n",
            "Iteration:  93%|█████████▎| 812/877 [22:03<01:47,  1.66s/it]\u001b[A\n",
            "Iteration:  93%|█████████▎| 813/877 [22:05<01:45,  1.65s/it]\u001b[A\n",
            "Iteration:  93%|█████████▎| 814/877 [22:06<01:44,  1.65s/it]\u001b[A\n",
            "Iteration:  93%|█████████▎| 815/877 [22:08<01:42,  1.65s/it]\u001b[A\n",
            "Iteration:  93%|█████████▎| 816/877 [22:10<01:40,  1.65s/it]\u001b[A\n",
            "Iteration:  93%|█████████▎| 817/877 [22:11<01:39,  1.65s/it]\u001b[A\n",
            "Iteration:  93%|█████████▎| 818/877 [22:13<01:37,  1.65s/it]\u001b[A\n",
            "Iteration:  93%|█████████▎| 819/877 [22:15<01:35,  1.65s/it]\u001b[A\n",
            "Iteration:  94%|█████████▎| 820/877 [22:16<01:34,  1.65s/it]\u001b[A\n",
            "Iteration:  94%|█████████▎| 821/877 [22:18<01:32,  1.66s/it]\u001b[A\n",
            "Iteration:  94%|█████████▎| 822/877 [22:20<01:31,  1.66s/it]\u001b[A\n",
            "Iteration:  94%|█████████▍| 823/877 [22:21<01:29,  1.66s/it]\u001b[A\n",
            "Iteration:  94%|█████████▍| 824/877 [22:23<01:27,  1.65s/it]\u001b[A\n",
            "Iteration:  94%|█████████▍| 825/877 [22:25<01:26,  1.65s/it]\u001b[A\n",
            "Iteration:  94%|█████████▍| 826/877 [22:26<01:24,  1.65s/it]\u001b[A\n",
            "Iteration:  94%|█████████▍| 827/877 [22:28<01:22,  1.65s/it]\u001b[A\n",
            "Iteration:  94%|█████████▍| 828/877 [22:29<01:20,  1.65s/it]\u001b[A\n",
            "Iteration:  95%|█████████▍| 829/877 [22:31<01:19,  1.65s/it]\u001b[A\n",
            "Iteration:  95%|█████████▍| 830/877 [22:33<01:17,  1.66s/it]\u001b[A\n",
            "Iteration:  95%|█████████▍| 831/877 [22:34<01:16,  1.66s/it]\u001b[A\n",
            "Iteration:  95%|█████████▍| 832/877 [22:36<01:14,  1.66s/it]\u001b[A\n",
            "Iteration:  95%|█████████▍| 833/877 [22:38<01:12,  1.65s/it]\u001b[A\n",
            "Iteration:  95%|█████████▌| 834/877 [22:39<01:11,  1.66s/it]\u001b[A\n",
            "Iteration:  95%|█████████▌| 835/877 [22:41<01:09,  1.65s/it]\u001b[A\n",
            "Iteration:  95%|█████████▌| 836/877 [22:43<01:07,  1.66s/it]\u001b[A\n",
            "Iteration:  95%|█████████▌| 837/877 [22:44<01:06,  1.66s/it]\u001b[A\n",
            "Iteration:  96%|█████████▌| 838/877 [22:46<01:04,  1.66s/it]\u001b[A\n",
            "Iteration:  96%|█████████▌| 839/877 [22:48<01:02,  1.65s/it]\u001b[A\n",
            "Iteration:  96%|█████████▌| 840/877 [22:49<01:01,  1.65s/it]\u001b[A\n",
            "Iteration:  96%|█████████▌| 841/877 [22:51<00:59,  1.65s/it]\u001b[A\n",
            "Iteration:  96%|█████████▌| 842/877 [22:53<00:57,  1.65s/it]\u001b[A\n",
            "Iteration:  96%|█████████▌| 843/877 [22:54<00:56,  1.65s/it]\u001b[A\n",
            "Iteration:  96%|█████████▌| 844/877 [22:56<00:54,  1.66s/it]\u001b[A\n",
            "Iteration:  96%|█████████▋| 845/877 [22:58<00:53,  1.66s/it]\u001b[A\n",
            "Iteration:  96%|█████████▋| 846/877 [22:59<00:51,  1.66s/it]\u001b[A\n",
            "Iteration:  97%|█████████▋| 847/877 [23:01<00:49,  1.66s/it]\u001b[A\n",
            "Iteration:  97%|█████████▋| 848/877 [23:03<00:48,  1.66s/it]\u001b[A\n",
            "Iteration:  97%|█████████▋| 849/877 [23:04<00:46,  1.65s/it]\u001b[A\n",
            "Iteration:  97%|█████████▋| 850/877 [23:06<00:44,  1.65s/it]\u001b[A\n",
            "Iteration:  97%|█████████▋| 851/877 [23:08<00:43,  1.66s/it]\u001b[A\n",
            "Iteration:  97%|█████████▋| 852/877 [23:09<00:41,  1.65s/it]\u001b[A\n",
            "Iteration:  97%|█████████▋| 853/877 [23:11<00:39,  1.65s/it]\u001b[A\n",
            "Iteration:  97%|█████████▋| 854/877 [23:13<00:38,  1.65s/it]\u001b[A\n",
            "Iteration:  97%|█████████▋| 855/877 [23:14<00:36,  1.66s/it]\u001b[A\n",
            "Iteration:  98%|█████████▊| 856/877 [23:16<00:34,  1.66s/it]\u001b[A\n",
            "Iteration:  98%|█████████▊| 857/877 [23:18<00:33,  1.66s/it]\u001b[A\n",
            "Iteration:  98%|█████████▊| 858/877 [23:19<00:31,  1.66s/it]\u001b[A\n",
            "Iteration:  98%|█████████▊| 859/877 [23:21<00:29,  1.66s/it]\u001b[A\n",
            "Iteration:  98%|█████████▊| 860/877 [23:22<00:28,  1.66s/it]\u001b[A\n",
            "Iteration:  98%|█████████▊| 861/877 [23:24<00:26,  1.66s/it]\u001b[A\n",
            "Iteration:  98%|█████████▊| 862/877 [23:26<00:24,  1.66s/it]\u001b[A\n",
            "Iteration:  98%|█████████▊| 863/877 [23:27<00:23,  1.65s/it]\u001b[A\n",
            "Iteration:  99%|█████████▊| 864/877 [23:29<00:21,  1.65s/it]\u001b[A\n",
            "Iteration:  99%|█████████▊| 865/877 [23:31<00:19,  1.65s/it]\u001b[A\n",
            "Iteration:  99%|█████████▊| 866/877 [23:32<00:18,  1.65s/it]\u001b[A\n",
            "Iteration:  99%|█████████▉| 867/877 [23:34<00:16,  1.65s/it]\u001b[A\n",
            "Iteration:  99%|█████████▉| 868/877 [23:36<00:14,  1.65s/it]\u001b[A\n",
            "Iteration:  99%|█████████▉| 869/877 [23:37<00:13,  1.65s/it]\u001b[A\n",
            "Iteration:  99%|█████████▉| 870/877 [23:39<00:11,  1.66s/it]\u001b[A\n",
            "Iteration:  99%|█████████▉| 871/877 [23:41<00:09,  1.65s/it]\u001b[A\n",
            "Iteration:  99%|█████████▉| 872/877 [23:42<00:08,  1.65s/it]\u001b[A\n",
            "Iteration: 100%|█████████▉| 873/877 [23:44<00:06,  1.65s/it]\u001b[A\n",
            "Iteration: 100%|█████████▉| 874/877 [23:46<00:04,  1.65s/it]\u001b[A\n",
            "Iteration: 100%|█████████▉| 875/877 [23:47<00:03,  1.65s/it]\u001b[A\n",
            "Iteration: 100%|█████████▉| 876/877 [23:49<00:01,  1.65s/it]\u001b[A\n",
            "Iteration: 100%|██████████| 877/877 [23:51<00:00,  1.63s/it]\n",
            "Epoch: 100%|██████████| 1/1 [23:51<00:00, 1431.11s/it]\n"
          ],
          "name": "stderr"
        }
      ]
    },
    {
      "cell_type": "code",
      "metadata": {
        "id": "yisRHQem8hAn"
      },
      "source": [
        ""
      ],
      "execution_count": 32,
      "outputs": []
    },
    {
      "cell_type": "code",
      "metadata": {
        "id": "WUfeq9kO1oYM"
      },
      "source": [
        "output_dir = '/drive/My Drive/Medium/checkpoint-final'\n",
        "if not os.path.exists(output_dir):\n",
        "    os.makedirs(output_dir)\n",
        "model_to_save = model.module if hasattr(model, 'module') else model\n",
        "model_to_save.save_pretrained(output_dir)"
      ],
      "execution_count": 33,
      "outputs": []
    },
    {
      "cell_type": "code",
      "metadata": {
        "colab": {
          "base_uri": "https://localhost:8080/"
        },
        "id": "-d0FqMoMEXyL",
        "outputId": "3d65c6cb-6173-457f-e7d3-e78b56b49afc"
      },
      "source": [
        "os.path.exists(output_dir)"
      ],
      "execution_count": 34,
      "outputs": [
        {
          "output_type": "execute_result",
          "data": {
            "text/plain": [
              "True"
            ]
          },
          "metadata": {
            "tags": []
          },
          "execution_count": 34
        }
      ]
    },
    {
      "cell_type": "code",
      "metadata": {
        "colab": {
          "base_uri": "https://localhost:8080/"
        },
        "id": "FCYOm8ivE_Gg",
        "outputId": "82e74876-3971-45e5-d308-00a168d9f958"
      },
      "source": [
        "# train_loss = []\n",
        "# for i in train_loss_set:\n",
        "# train_loss.append(i.item())\n",
        "# print(\"Training Loss\",train_loss[-1])"
      ],
      "execution_count": 68,
      "outputs": [
        {
          "output_type": "stream",
          "text": [
            "Training Loss 1.251854658126831\n"
          ],
          "name": "stdout"
        }
      ]
    },
    {
      "cell_type": "code",
      "metadata": {
        "id": "PpoznGAgYcWE"
      },
      "source": [
        "# train_loss_set_ckpt = torch.load('/drive/My Drive/Medium/checkpoint-final/training_loss.pt')\n",
        "# train_loss_set = to_list(train_loss_set_ckpt)"
      ],
      "execution_count": 64,
      "outputs": []
    },
    {
      "cell_type": "code",
      "metadata": {
        "id": "-z2GxIeN1vqa",
        "colab": {
          "base_uri": "https://localhost:8080/",
          "height": 513
        },
        "outputId": "8cc3cb1e-6c90-4925-b840-265812c87f33"
      },
      "source": [
        "plt.figure(figsize=(15,8))\n",
        "plt.title(\"Training loss\")\n",
        "plt.xlabel(\"Batch\")\n",
        "plt.ylabel(\"Loss\")\n",
        "plt.plot(train_loss_set)\n",
        "plt.show()"
      ],
      "execution_count": 65,
      "outputs": [
        {
          "output_type": "display_data",
          "data": {
            "image/png": "[encoded data removed]",
            "text/plain": [
              "<Figure size 1080x576 with 1 Axes>"
            ]
          },
          "metadata": {
            "tags": [],
            "needs_background": "light"
          }
        }
      ]
    },
    {
      "cell_type": "markdown",
      "metadata": {
        "id": "-b2hzsaq16H6"
      },
      "source": [
        "**Load test dataset**"
      ]
    },
    {
      "cell_type": "code",
      "metadata": {
        "id": "TglKsny312Oh"
      },
      "source": [
        "input_file = '/drive/My Drive/Medium/dev-v2.0.json'\n",
        "val_examples = read_squad_examples(input_file=input_file,\n",
        "                                is_training=False,\n",
        "                                version_2_with_negative=True)\n",
        "doc_stride = 128\n",
        "max_seq_length = 256\n",
        "max_query_length = 64\n",
        "cached_features_file = '/drive/My Drive/Medium/cache_validation'\n",
        "\n",
        "# Cache features for faster loading\n",
        "if not os.path.exists(cached_features_file):\n",
        "  features = convert_examples_to_features(examples=val_examples,\n",
        "                                        tokenizer=tokenizer,\n",
        "                                        max_seq_length=max_seq_length,\n",
        "                                        doc_stride=doc_stride,\n",
        "                                        max_query_length=max_query_length,\n",
        "                                        is_training=False)\n",
        "  torch.save(features, cached_features_file)\n",
        "else:\n",
        "  features = torch.load(cached_features_file)"
      ],
      "execution_count": 39,
      "outputs": []
    },
    {
      "cell_type": "code",
      "metadata": {
        "colab": {
          "base_uri": "https://localhost:8080/",
          "height": 203
        },
        "id": "Q_WlpR-iFhQF",
        "outputId": "7b0fb33c-f9ee-45a6-8428-9021818688ff"
      },
      "source": [
        "test_data = pd.DataFrame.from_records([vars(val_example) for val_example in val_examples])\n",
        "#train_data = train_data.sample(frac=0.2)\n",
        "test_data.head()"
      ],
      "execution_count": 40,
      "outputs": [
        {
          "output_type": "execute_result",
          "data": {
            "text/html": [
              "<div>\n",
              "<style scoped>\n",
              "    .dataframe tbody tr th:only-of-type {\n",
              "        vertical-align: middle;\n",
              "    }\n",
              "\n",
              "    .dataframe tbody tr th {\n",
              "        vertical-align: top;\n",
              "    }\n",
              "\n",
              "    .dataframe thead th {\n",
              "        text-align: right;\n",
              "    }\n",
              "</style>\n",
              "<table border=\"1\" class=\"dataframe\">\n",
              "  <thead>\n",
              "    <tr style=\"text-align: right;\">\n",
              "      <th></th>\n",
              "      <th>qas_id</th>\n",
              "      <th>question_text</th>\n",
              "      <th>doc_tokens</th>\n",
              "      <th>orig_answer_text</th>\n",
              "      <th>start_position</th>\n",
              "      <th>end_position</th>\n",
              "      <th>is_impossible</th>\n",
              "    </tr>\n",
              "  </thead>\n",
              "  <tbody>\n",
              "    <tr>\n",
              "      <th>0</th>\n",
              "      <td>56ddde6b9a695914005b9628</td>\n",
              "      <td>In what country is Normandy located?</td>\n",
              "      <td>[The, Normans, (Norman:, Nourmands;, French:, ...</td>\n",
              "      <td>None</td>\n",
              "      <td>None</td>\n",
              "      <td>None</td>\n",
              "      <td>False</td>\n",
              "    </tr>\n",
              "    <tr>\n",
              "      <th>1</th>\n",
              "      <td>56ddde6b9a695914005b9629</td>\n",
              "      <td>When were the Normans in Normandy?</td>\n",
              "      <td>[The, Normans, (Norman:, Nourmands;, French:, ...</td>\n",
              "      <td>None</td>\n",
              "      <td>None</td>\n",
              "      <td>None</td>\n",
              "      <td>False</td>\n",
              "    </tr>\n",
              "    <tr>\n",
              "      <th>2</th>\n",
              "      <td>56ddde6b9a695914005b962a</td>\n",
              "      <td>From which countries did the Norse originate?</td>\n",
              "      <td>[The, Normans, (Norman:, Nourmands;, French:, ...</td>\n",
              "      <td>None</td>\n",
              "      <td>None</td>\n",
              "      <td>None</td>\n",
              "      <td>False</td>\n",
              "    </tr>\n",
              "    <tr>\n",
              "      <th>3</th>\n",
              "      <td>56ddde6b9a695914005b962b</td>\n",
              "      <td>Who was the Norse leader?</td>\n",
              "      <td>[The, Normans, (Norman:, Nourmands;, French:, ...</td>\n",
              "      <td>None</td>\n",
              "      <td>None</td>\n",
              "      <td>None</td>\n",
              "      <td>False</td>\n",
              "    </tr>\n",
              "    <tr>\n",
              "      <th>4</th>\n",
              "      <td>56ddde6b9a695914005b962c</td>\n",
              "      <td>What century did the Normans first gain their ...</td>\n",
              "      <td>[The, Normans, (Norman:, Nourmands;, French:, ...</td>\n",
              "      <td>None</td>\n",
              "      <td>None</td>\n",
              "      <td>None</td>\n",
              "      <td>False</td>\n",
              "    </tr>\n",
              "  </tbody>\n",
              "</table>\n",
              "</div>"
            ],
            "text/plain": [
              "                     qas_id  ... is_impossible\n",
              "0  56ddde6b9a695914005b9628  ...         False\n",
              "1  56ddde6b9a695914005b9629  ...         False\n",
              "2  56ddde6b9a695914005b962a  ...         False\n",
              "3  56ddde6b9a695914005b962b  ...         False\n",
              "4  56ddde6b9a695914005b962c  ...         False\n",
              "\n",
              "[5 rows x 7 columns]"
            ]
          },
          "metadata": {
            "tags": []
          },
          "execution_count": 40
        }
      ]
    },
    {
      "cell_type": "code",
      "metadata": {
        "colab": {
          "base_uri": "https://localhost:8080/"
        },
        "id": "s6R6TEKJGH8q",
        "outputId": "0b50098d-bc79-43e3-e43c-36f7f12c8f81"
      },
      "source": [
        "test_data.shape"
      ],
      "execution_count": 43,
      "outputs": [
        {
          "output_type": "execute_result",
          "data": {
            "text/plain": [
              "(11873, 7)"
            ]
          },
          "metadata": {
            "tags": []
          },
          "execution_count": 43
        }
      ]
    },
    {
      "cell_type": "code",
      "metadata": {
        "id": "rLmoahbz1_Hx"
      },
      "source": [
        "# Convert to Tensors and build dataset\n",
        "all_input_ids = torch.tensor([f.input_ids for f in features], dtype=torch.long)\n",
        "all_input_mask = torch.tensor([f.input_mask for f in features], dtype=torch.long)\n",
        "all_segment_ids = torch.tensor([f.segment_ids for f in features], dtype=torch.long)\n",
        "all_cls_index = torch.tensor([f.cls_index for f in features], dtype=torch.long)\n",
        "all_p_mask = torch.tensor([f.p_mask for f in features], dtype=torch.float)\n",
        "\n",
        "all_example_index = torch.arange(all_input_ids.size(0), dtype=torch.long)\n",
        "dataset = TensorDataset(all_input_ids, all_input_mask, all_segment_ids,\n",
        "                        all_example_index, all_cls_index, all_p_mask)"
      ],
      "execution_count": 44,
      "outputs": []
    },
    {
      "cell_type": "code",
      "metadata": {
        "id": "TMMV4KIh2OKt"
      },
      "source": [
        "validation_sampler = SequentialSampler(dataset)\n",
        "validation_dataloader = DataLoader(dataset, sampler=validation_sampler, batch_size=batch_size, drop_last=True)"
      ],
      "execution_count": 45,
      "outputs": []
    },
    {
      "cell_type": "code",
      "metadata": {
        "id": "JLdGjs5G2V5O"
      },
      "source": [
        ""
      ],
      "execution_count": null,
      "outputs": []
    },
    {
      "cell_type": "markdown",
      "metadata": {
        "id": "LbrsNDUm2Url"
      },
      "source": [
        "**Evaluate test dataset**"
      ]
    },
    {
      "cell_type": "code",
      "metadata": {
        "id": "j3_CAQUf2asD"
      },
      "source": [
        "\n",
        "def evaluate(model, tokenizer):\n",
        "  print(\"***** Running evaluation *****\")\n",
        "  print(\"  Num examples = %d\" % len(dataset))\n",
        "  print(\"  Batch size = %d\" % batch_size)\n",
        "  all_results = []\n",
        "  predict_file = '/drive/My Drive/Medium//dev-v2.0.json'\n",
        "  for batch in tqdm(validation_dataloader, desc=\"Evaluating\", miniters=100, mininterval=5.0):\n",
        "    model.eval()\n",
        "    batch = tuple(t.to(device) for t in batch)\n",
        "    with torch.no_grad():\n",
        "      inputs = {'input_ids':      batch[0],\n",
        "                'attention_mask': batch[1],\n",
        "                'token_type_ids': batch[2]\n",
        "                }\n",
        "      example_indices = batch[3]\n",
        "      outputs = model(**inputs)\n",
        "\n",
        "    for i, example_index in enumerate(example_indices):\n",
        "      eval_feature = features[example_index.item()]\n",
        "      unique_id = int(eval_feature.unique_id)\n",
        "\n",
        "      result = RawResult(unique_id    = unique_id,\n",
        "                         start_logits = to_list(outputs[0][i]),\n",
        "                         end_logits   = to_list(outputs[1][i]))\n",
        "      all_results.append(result)\n",
        "\n",
        "  # Compute predictions\n",
        "  output_prediction_file = \"/drive/My Drive/Medium/predictions.json\"\n",
        "  output_nbest_file = \"/drive/My Drive/Medium/nbest_predictions.json\"\n",
        "  output_null_log_odds_file = \"/drive/My Drive/Medium/null_odds.json\"\n",
        "  output_dir = \"/drive/My Drive/Medium/predict_results\"\n",
        "\n",
        "  write_predictions(val_examples, features, all_results, 10,\n",
        "                  30, True, output_prediction_file,\n",
        "                  output_nbest_file, output_null_log_odds_file, False,\n",
        "                  True, 0.0)\n",
        "\n",
        "  # Evaluate with the official SQuAD script\n",
        "  evaluate_options = EVAL_OPTS(data_file=predict_file,\n",
        "                               pred_file=output_prediction_file,\n",
        "                               na_prob_file=output_null_log_odds_file,\n",
        "                               out_image_dir=None)\n",
        "  results = evaluate_on_squad(evaluate_options)\n",
        "  return results"
      ],
      "execution_count": 46,
      "outputs": []
    },
    {
      "cell_type": "code",
      "metadata": {
        "id": "xzE14nYJKdO6"
      },
      "source": [
        ""
      ],
      "execution_count": null,
      "outputs": []
    },
    {
      "cell_type": "code",
      "metadata": {
        "id": "ROJlB2Np2iTo",
        "colab": {
          "base_uri": "https://localhost:8080/"
        },
        "outputId": "3d864ec5-db72-43ea-ba45-9c19832a495b"
      },
      "source": [
        "results = evaluate(model, tokenizer)"
      ],
      "execution_count": 47,
      "outputs": [
        {
          "output_type": "stream",
          "text": [
            "\rEvaluating:   0%|          | 0/425 [00:00<?, ?it/s]"
          ],
          "name": "stderr"
        },
        {
          "output_type": "stream",
          "text": [
            "***** Running evaluation *****\n",
            "  Num examples = 13600\n",
            "  Batch size = 32\n"
          ],
          "name": "stdout"
        },
        {
          "output_type": "stream",
          "text": [
            "Evaluating: 100%|██████████| 425/425 [03:37<00:00,  1.95it/s]\n"
          ],
          "name": "stderr"
        },
        {
          "output_type": "stream",
          "text": [
            "{\n",
            "  \"exact\": 49.38937084140487,\n",
            "  \"f1\": 54.0109620487612,\n",
            "  \"total\": 11873,\n",
            "  \"HasAns_exact\": 64.6255060728745,\n",
            "  \"HasAns_f1\": 73.88194203862014,\n",
            "  \"HasAns_total\": 5928,\n",
            "  \"NoAns_exact\": 34.19680403700589,\n",
            "  \"NoAns_f1\": 34.19680403700589,\n",
            "  \"NoAns_total\": 5945,\n",
            "  \"best_exact\": 57.01170723490272,\n",
            "  \"best_exact_thresh\": -5.869788765907288,\n",
            "  \"best_f1\": 59.45140875382585,\n",
            "  \"best_f1_thresh\": -5.801982164382935\n",
            "}\n"
          ],
          "name": "stdout"
        }
      ]
    },
    {
      "cell_type": "code",
      "metadata": {
        "id": "y4_tXFnX2mge",
        "colab": {
          "base_uri": "https://localhost:8080/"
        },
        "outputId": "be7003dc-9b9e-4b23-8153-960690a6cd00"
      },
      "source": [
        "import json\n",
        "results_json = []\n",
        "for k in enumerate(results.keys()):\n",
        "  result_dict = {k[1] : results[k[1]]}\n",
        "  results_json.append(result_dict)\n",
        "print(results_json)\n",
        "with open('results.json', 'w') as f:\n",
        "  json.dump(results_json, f)"
      ],
      "execution_count": 48,
      "outputs": [
        {
          "output_type": "stream",
          "text": [
            "[{'exact': 49.38937084140487}, {'f1': 54.0109620487612}, {'total': 11873}, {'HasAns_exact': 64.6255060728745}, {'HasAns_f1': 73.88194203862014}, {'HasAns_total': 5928}, {'NoAns_exact': 34.19680403700589}, {'NoAns_f1': 34.19680403700589}, {'NoAns_total': 5945}, {'best_exact': 57.01170723490272}, {'best_exact_thresh': -5.869788765907288}, {'best_f1': 59.45140875382585}, {'best_f1_thresh': -5.801982164382935}]\n"
          ],
          "name": "stdout"
        }
      ]
    },
    {
      "cell_type": "markdown",
      "metadata": {
        "id": "BqL0gh6w-hjC"
      },
      "source": [
        "**Evaluate on any text**"
      ]
    },
    {
      "cell_type": "code",
      "metadata": {
        "id": "-M-L4ela-liv"
      },
      "source": [
        "\n",
        "with open('/drive/My Drive/Medium/predictions.json') as f:\n",
        "    best_predictions = json.load(f)"
      ],
      "execution_count": 50,
      "outputs": []
    },
    {
      "cell_type": "code",
      "metadata": {
        "colab": {
          "base_uri": "https://localhost:8080/"
        },
        "id": "gfBpXR_6Jbmo",
        "outputId": "9b6ab86f-dca2-4137-987f-eb31891177ea"
      },
      "source": [
        "import random\n",
        "\n",
        "for example in random.sample(val_examples, 10):\n",
        "    qas_id = example.qas_id\n",
        "    question_text = example.question_text\n",
        "    answer_text = best_predictions[qas_id]\n",
        "    print(\"*\"*90)\n",
        "    print()\n",
        "    print(f'question         >> {question_text}')\n",
        "    print(f'Answer BY Model  >> {answer_text}')\n",
        "    print()\n",
        "    print(\"*\"*90)\n"
      ],
      "execution_count": 54,
      "outputs": [
        {
          "output_type": "stream",
          "text": [
            "******************************************************************************************\n",
            "\n",
            "question         >> What was the Grand 1401 building renamed as?\n",
            "Answer BY Model  >> San Joaquin Light & Power Building\n",
            "\n",
            "******************************************************************************************\n",
            "******************************************************************************************\n",
            "\n",
            "question         >> What is the result of rebellion according to Black's Law Dictionary?\n",
            "Answer BY Model  >> non-violence\n",
            "\n",
            "******************************************************************************************\n",
            "******************************************************************************************\n",
            "\n",
            "question         >> Who was the first geologist?\n",
            "Answer BY Model  >> James Hutton\n",
            "\n",
            "******************************************************************************************\n",
            "******************************************************************************************\n",
            "\n",
            "question         >> What does not regularly use input coding as its concrete choice?\n",
            "Answer BY Model  >> \n",
            "\n",
            "******************************************************************************************\n",
            "******************************************************************************************\n",
            "\n",
            "question         >> Evolution of what part of the immune system occurred in the evolutionary ancestor of jawed vertebrates?\n",
            "Answer BY Model  >> adaptive immune system\n",
            "\n",
            "******************************************************************************************\n",
            "******************************************************************************************\n",
            "\n",
            "question         >> What is the virus in humans that causes cervical cancer?\n",
            "Answer BY Model  >> papillomavirus\n",
            "\n",
            "******************************************************************************************\n",
            "******************************************************************************************\n",
            "\n",
            "question         >> What is included in Medication Therapy Management?\n",
            "Answer BY Model  >> clinical services\n",
            "\n",
            "******************************************************************************************\n",
            "******************************************************************************************\n",
            "\n",
            "question         >> How did Yale introduce a new era in football?\n",
            "Answer BY Model  >> evolution of the college game\n",
            "\n",
            "******************************************************************************************\n",
            "******************************************************************************************\n",
            "\n",
            "question         >> What river does Berlin straddle?\n",
            "Answer BY Model  >> Vistula River\n",
            "\n",
            "******************************************************************************************\n",
            "******************************************************************************************\n",
            "\n",
            "question         >> How many nations are within the Amazon Basin?\n",
            "Answer BY Model  >> \n",
            "\n",
            "******************************************************************************************\n"
          ],
          "name": "stdout"
        }
      ]
    },
    {
      "cell_type": "code",
      "metadata": {
        "id": "WeYvydRcLVLr"
      },
      "source": [
        ""
      ],
      "execution_count": null,
      "outputs": []
    }
  ]
}